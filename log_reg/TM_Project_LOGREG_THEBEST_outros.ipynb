{
 "cells": [
  {
   "cell_type": "markdown",
   "id": "26682391",
   "metadata": {},
   "source": [
    "# Text Mining Project\n",
    "#### Spring 2022\n",
    "#### Opinion Mining Evaluation Forum\n",
    "#### Students m20200246 Pedro Costa, m20181034 Ana Bernardes & m20211001 Miguel Ova"
   ]
  },
  {
   "cell_type": "code",
   "execution_count": 1,
   "id": "a89a8507",
   "metadata": {},
   "outputs": [
    {
     "name": "stderr",
     "output_type": "stream",
     "text": [
      "[nltk_data] Downloading package wordnet to\n",
      "[nltk_data]     C:\\Users\\Utilizador\\AppData\\Roaming\\nltk_data...\n",
      "[nltk_data]   Package wordnet is already up-to-date!\n",
      "[nltk_data] Downloading package stopwords to\n",
      "[nltk_data]     C:\\Users\\Utilizador\\AppData\\Roaming\\nltk_data...\n",
      "[nltk_data]   Package stopwords is already up-to-date!\n"
     ]
    }
   ],
   "source": [
    "import pandas as pd\n",
    "import numpy as np\n",
    "\n",
    "import re\n",
    "import nltk\n",
    "import string\n",
    "from nltk.corpus import stopwords\n",
    "from nltk.stem.wordnet import WordNetLemmatizer\n",
    "from bs4 import BeautifulSoup\n",
    "from tqdm import tqdm_notebook as tqdm\n",
    "from nltk.stem.snowball import SnowballStemmer\n",
    "from nltk.tokenize import word_tokenize\n",
    "from nltk.corpus import wordnet\n",
    "from bs4 import BeautifulSoup\n",
    "import matplotlib.pyplot as plt\n",
    "\n",
    "nltk.download('wordnet')\n",
    "nltk.download('stopwords')\n",
    "\n",
    "stop = set(stopwords.words('english'))\n",
    "exclude = set(string.punctuation)\n",
    "lemma = WordNetLemmatizer()\n",
    "stem = SnowballStemmer(\"english\")\n",
    "\n",
    "## Importing machine learning packages\n",
    "# Estimators\n",
    "from sklearn.naive_bayes import MultinomialNB\n",
    "from sklearn.linear_model import LogisticRegression\n",
    "from sklearn.ensemble import RandomForestClassifier\n",
    "from sklearn.neighbors import KNeighborsClassifier\n",
    "from sklearn.svm import LinearSVC\n",
    "\n",
    "# Machines cannot process the raw text data, it has to be converted into a matrix of numbers\n",
    "# Transformers\n",
    "from sklearn.feature_extraction.text import CountVectorizer\n",
    "from sklearn.model_selection import train_test_split\n",
    "\n",
    "#For calculating the accuracy score of our model during prediction\n",
    "from sklearn.metrics import precision_score, recall_score, f1_score, accuracy_score, f1_score, confusion_matrix, classification_report"
   ]
  },
  {
   "cell_type": "markdown",
   "id": "8e050a73",
   "metadata": {},
   "source": [
    "### Data import"
   ]
  },
  {
   "cell_type": "code",
   "execution_count": 2,
   "id": "8507ba67",
   "metadata": {},
   "outputs": [
    {
     "name": "stderr",
     "output_type": "stream",
     "text": [
      "C:\\Users\\Utilizador\\AppData\\Local\\Temp\\ipykernel_2632\\3254970174.py:7: FutureWarning: The frame.append method is deprecated and will be removed from pandas in a future version. Use pandas.concat instead.\n",
      "  df1 = df_train.append(df_dev, ignore_index=True)\n"
     ]
    }
   ],
   "source": [
    "## Loading files\n",
    "df_train = pd.read_csv('training_set.txt', delimiter = '\\t')\n",
    "df_test = pd.read_csv('test_set.txt', delimiter = '\\t')\n",
    "df_dev = pd.read_csv('dev_set.txt', delimiter = '\\t')\n",
    "\n",
    "## Append train_set and dev_set for a bigger training sample\n",
    "df1 = df_train.append(df_dev, ignore_index=True)\n",
    "df2 = df_test\n",
    "df3 = df_train\n",
    "df4 = df_dev\n",
    "\n",
    "### Classe name to be used in the  Confusion Matrix\n",
    "class_names = df1['emotion'].unique().tolist()"
   ]
  },
  {
   "cell_type": "code",
   "execution_count": 3,
   "id": "14847a9e",
   "metadata": {},
   "outputs": [
    {
     "data": {
      "text/html": [
       "<div>\n",
       "<style scoped>\n",
       "    .dataframe tbody tr th:only-of-type {\n",
       "        vertical-align: middle;\n",
       "    }\n",
       "\n",
       "    .dataframe tbody tr th {\n",
       "        vertical-align: top;\n",
       "    }\n",
       "\n",
       "    .dataframe thead th {\n",
       "        text-align: right;\n",
       "    }\n",
       "</style>\n",
       "<table border=\"1\" class=\"dataframe\">\n",
       "  <thead>\n",
       "    <tr style=\"text-align: right;\">\n",
       "      <th></th>\n",
       "      <th>sentence</th>\n",
       "      <th>emotion</th>\n",
       "    </tr>\n",
       "  </thead>\n",
       "  <tbody>\n",
       "    <tr>\n",
       "      <th>0</th>\n",
       "      <td>I'm too old to be traded in .</td>\n",
       "      <td>6</td>\n",
       "    </tr>\n",
       "    <tr>\n",
       "      <th>1</th>\n",
       "      <td>Mother said you could always tell a lady by he...</td>\n",
       "      <td>8</td>\n",
       "    </tr>\n",
       "    <tr>\n",
       "      <th>2</th>\n",
       "      <td>I always said I'd leave off when the time came .</td>\n",
       "      <td>6</td>\n",
       "    </tr>\n",
       "    <tr>\n",
       "      <th>3</th>\n",
       "      <td>He'll be safe with me .</td>\n",
       "      <td>2</td>\n",
       "    </tr>\n",
       "    <tr>\n",
       "      <th>4</th>\n",
       "      <td>Lay off .</td>\n",
       "      <td>1</td>\n",
       "    </tr>\n",
       "  </tbody>\n",
       "</table>\n",
       "</div>"
      ],
      "text/plain": [
       "                                            sentence  emotion\n",
       "0                      I'm too old to be traded in .        6\n",
       "1  Mother said you could always tell a lady by he...        8\n",
       "2   I always said I'd leave off when the time came .        6\n",
       "3                            He'll be safe with me .        2\n",
       "4                                          Lay off .        1"
      ]
     },
     "execution_count": 3,
     "metadata": {},
     "output_type": "execute_result"
    }
   ],
   "source": [
    "# Preview of train data\n",
    "df1.head()"
   ]
  },
  {
   "cell_type": "code",
   "execution_count": 4,
   "id": "18c4ba69",
   "metadata": {},
   "outputs": [
    {
     "data": {
      "text/plain": [
       "15000"
      ]
     },
     "execution_count": 4,
     "metadata": {},
     "output_type": "execute_result"
    }
   ],
   "source": [
    "# Size of train data\n",
    "len(df1)"
   ]
  },
  {
   "cell_type": "code",
   "execution_count": 5,
   "id": "60348a3d",
   "metadata": {},
   "outputs": [
    {
     "data": {
      "text/plain": [
       "sentence    0\n",
       "emotion     0\n",
       "dtype: int64"
      ]
     },
     "execution_count": 5,
     "metadata": {},
     "output_type": "execute_result"
    }
   ],
   "source": [
    "# Checking for null/empty cells\n",
    "df1.isnull().sum()"
   ]
  },
  {
   "cell_type": "code",
   "execution_count": 6,
   "id": "2e84a723",
   "metadata": {},
   "outputs": [
    {
     "data": {
      "text/plain": [
       "1    3210\n",
       "2    2299\n",
       "8    2253\n",
       "5    1567\n",
       "4    1546\n",
       "6    1471\n",
       "3    1420\n",
       "7    1234\n",
       "Name: emotion, dtype: int64"
      ]
     },
     "execution_count": 6,
     "metadata": {},
     "output_type": "execute_result"
    }
   ],
   "source": [
    "# Value count of each emotion\n",
    "df1['emotion'].value_counts()"
   ]
  },
  {
   "cell_type": "code",
   "execution_count": 7,
   "id": "6085b4eb",
   "metadata": {},
   "outputs": [],
   "source": [
    "# Word Count\n",
    "def word_count(text):\n",
    "    \"\"\"\n",
    "    Function that counts text words\n",
    "    \"\"\"\n",
    "    df1_words = \" \".join(text).split()\n",
    "    # Count all words \n",
    "    freq = pd.Series(df1_words).value_counts()\n",
    "    return freq"
   ]
  },
  {
   "cell_type": "code",
   "execution_count": 8,
   "id": "a07412bb",
   "metadata": {},
   "outputs": [
    {
     "data": {
      "text/plain": [
       ".           11334\n",
       ",            6118\n",
       "you          3736\n",
       "I            3446\n",
       "to           3085\n",
       "?            2907\n",
       "the          2890\n",
       "a            2480\n",
       "!            1728\n",
       "[PERSON]     1487\n",
       "of           1459\n",
       "and          1341\n",
       "it           1292\n",
       "me           1271\n",
       "that         1227\n",
       "in           1155\n",
       "You          1025\n",
       "is            969\n",
       "for           908\n",
       "be            817\n",
       "this          804\n",
       "I'm           787\n",
       "have          771\n",
       "your          726\n",
       "my            722\n",
       "dtype: int64"
      ]
     },
     "execution_count": 8,
     "metadata": {},
     "output_type": "execute_result"
    }
   ],
   "source": [
    "word_count(list(df1['sentence']))[:25]"
   ]
  },
  {
   "cell_type": "code",
   "execution_count": 9,
   "id": "80bc1c40",
   "metadata": {},
   "outputs": [
    {
     "name": "stdout",
     "output_type": "stream",
     "text": [
      "Requirement already satisfied: neattext in c:\\users\\utilizador\\anaconda3\\envs\\tm_lab\\lib\\site-packages (0.1.3)\n"
     ]
    },
    {
     "data": {
      "text/plain": [
       "['BTC_ADDRESS_REGEX',\n",
       " 'CURRENCY_REGEX',\n",
       " 'CURRENCY_SYMB_REGEX',\n",
       " 'Counter',\n",
       " 'DATE_REGEX',\n",
       " 'EMAIL_REGEX',\n",
       " 'EMOJI_REGEX',\n",
       " 'HASTAG_REGEX',\n",
       " 'MASTERCard_REGEX',\n",
       " 'MD5_SHA_REGEX',\n",
       " 'MOST_COMMON_PUNCT_REGEX',\n",
       " 'NUMBERS_REGEX',\n",
       " 'PHONE_REGEX',\n",
       " 'PoBOX_REGEX',\n",
       " 'SPECIAL_CHARACTERS_REGEX',\n",
       " 'STOPWORDS',\n",
       " 'STOPWORDS_de',\n",
       " 'STOPWORDS_en',\n",
       " 'STOPWORDS_es',\n",
       " 'STOPWORDS_fr',\n",
       " 'STOPWORDS_ru',\n",
       " 'STOPWORDS_yo',\n",
       " 'STREET_ADDRESS_REGEX',\n",
       " 'TextFrame',\n",
       " 'URL_PATTERN',\n",
       " 'USER_HANDLES_REGEX',\n",
       " 'VISACard_REGEX',\n",
       " '__builtins__',\n",
       " '__cached__',\n",
       " '__doc__',\n",
       " '__file__',\n",
       " '__generate_text',\n",
       " '__loader__',\n",
       " '__name__',\n",
       " '__numbers_dict',\n",
       " '__package__',\n",
       " '__spec__',\n",
       " '_lex_richness_herdan',\n",
       " '_lex_richness_maas_ttr',\n",
       " 'clean_text',\n",
       " 'defaultdict',\n",
       " 'digit2words',\n",
       " 'extract_btc_address',\n",
       " 'extract_currencies',\n",
       " 'extract_currency_symbols',\n",
       " 'extract_dates',\n",
       " 'extract_emails',\n",
       " 'extract_emojis',\n",
       " 'extract_hashtags',\n",
       " 'extract_html_tags',\n",
       " 'extract_mastercard_addr',\n",
       " 'extract_md5sha',\n",
       " 'extract_numbers',\n",
       " 'extract_pattern',\n",
       " 'extract_phone_numbers',\n",
       " 'extract_postoffice_box',\n",
       " 'extract_shortwords',\n",
       " 'extract_special_characters',\n",
       " 'extract_stopwords',\n",
       " 'extract_street_address',\n",
       " 'extract_terms_in_bracket',\n",
       " 'extract_urls',\n",
       " 'extract_userhandles',\n",
       " 'extract_visacard_addr',\n",
       " 'fix_contractions',\n",
       " 'generate_sentence',\n",
       " 'hamming_distance',\n",
       " 'inverse_df',\n",
       " 'lexical_richness',\n",
       " 'markov_chain',\n",
       " 'math',\n",
       " 'nlargest',\n",
       " 'normalize',\n",
       " 'num2words',\n",
       " 'random',\n",
       " 're',\n",
       " 'read_txt',\n",
       " 'remove_accents',\n",
       " 'remove_bad_quotes',\n",
       " 'remove_btc_address',\n",
       " 'remove_currencies',\n",
       " 'remove_currency_symbols',\n",
       " 'remove_custom_pattern',\n",
       " 'remove_custom_words',\n",
       " 'remove_dates',\n",
       " 'remove_emails',\n",
       " 'remove_emojis',\n",
       " 'remove_hashtags',\n",
       " 'remove_html_tags',\n",
       " 'remove_mastercard_addr',\n",
       " 'remove_md5sha',\n",
       " 'remove_multiple_spaces',\n",
       " 'remove_non_ascii',\n",
       " 'remove_numbers',\n",
       " 'remove_phone_numbers',\n",
       " 'remove_postoffice_box',\n",
       " 'remove_puncts',\n",
       " 'remove_punctuations',\n",
       " 'remove_shortwords',\n",
       " 'remove_special_characters',\n",
       " 'remove_stopwords',\n",
       " 'remove_street_address',\n",
       " 'remove_terms_in_bracket',\n",
       " 'remove_urls',\n",
       " 'remove_userhandles',\n",
       " 'remove_visacard_addr',\n",
       " 'replace_bad_quotes',\n",
       " 'replace_currencies',\n",
       " 'replace_currency_symbols',\n",
       " 'replace_dates',\n",
       " 'replace_emails',\n",
       " 'replace_emojis',\n",
       " 'replace_numbers',\n",
       " 'replace_phone_numbers',\n",
       " 'replace_special_characters',\n",
       " 'replace_term',\n",
       " 'replace_urls',\n",
       " 'string',\n",
       " 'term_freq',\n",
       " 'to_txt',\n",
       " 'unicodedata',\n",
       " 'word_freq',\n",
       " 'word_length_freq']"
      ]
     },
     "execution_count": 9,
     "metadata": {},
     "output_type": "execute_result"
    }
   ],
   "source": [
    "### Preprocessing\n",
    "!pip install neattext\n",
    "import neattext.functions as nfx\n",
    "dir(nfx)"
   ]
  },
  {
   "cell_type": "code",
   "execution_count": 10,
   "id": "4e5f569a",
   "metadata": {},
   "outputs": [],
   "source": [
    "df1['sentence'] = df1['sentence'].apply(nfx.remove_stopwords)"
   ]
  },
  {
   "cell_type": "code",
   "execution_count": 11,
   "id": "6221b2a5",
   "metadata": {},
   "outputs": [
    {
     "data": {
      "text/plain": [
       ".             11334\n",
       ",              6118\n",
       "?              2907\n",
       "!              1728\n",
       "[PERSON]       1487\n",
       "I'm             787\n",
       "...             676\n",
       "know            572\n",
       "like            541\n",
       "-               493\n",
       "got             414\n",
       "want            399\n",
       "think           340\n",
       "I'll            326\n",
       "right           316\n",
       "good            310\n",
       "[LOCATION]      307\n",
       "gonna           293\n",
       "going           277\n",
       "time            240\n",
       "man             226\n",
       "That's          219\n",
       "come            217\n",
       "can't           217\n",
       "Oh              215\n",
       "dtype: int64"
      ]
     },
     "execution_count": 11,
     "metadata": {},
     "output_type": "execute_result"
    }
   ],
   "source": [
    "word_count(list(df1['sentence']))[:25]"
   ]
  },
  {
   "cell_type": "code",
   "execution_count": 12,
   "id": "7dbdee62",
   "metadata": {},
   "outputs": [],
   "source": [
    "### function to clean dataframe\n",
    "def clean(text_in, lemmatize, stemmer):\n",
    "    \"\"\"\n",
    "    Preprocessing function will consist of   \n",
    "    - make everything lowercased\n",
    "    - removing all symbols that are not letters\n",
    "    - remove stopwords\n",
    "    - replace words with the corresponding lemma or stem\n",
    "    \"\"\"\n",
    "    updates = []\n",
    "    for j in tqdm(range(len(text_in))):\n",
    "        \n",
    "        text = text_in[j]\n",
    "        \n",
    "        #make everything lowercased\n",
    "        text = text.lower()      \n",
    "          \n",
    "        #removing all symbols that are not letters\n",
    "        text = re.sub(\"[^a-zA-Z]\", ' ', text)\n",
    "            \n",
    "        #remove stopwords\n",
    "        #text = ' '.join([word for word in text.split() if word not in stop])\n",
    "        \n",
    "        #replace words with the corresponding lemma\n",
    "        text = BeautifulSoup(text).get_text()\n",
    "        \n",
    "        if lemmatize:\n",
    "            text = \" \".join(lemma.lemmatize(word) for word in text.split())\n",
    "        \n",
    "        if stemmer:\n",
    "            text = \" \".join(stem.stemmer(word) for word in text.split())\n",
    "        \n",
    "        updates.append(text)\n",
    "        \n",
    "    return updates"
   ]
  },
  {
   "cell_type": "code",
   "execution_count": 13,
   "id": "6adb106d",
   "metadata": {},
   "outputs": [],
   "source": [
    "### function to update dataframe\n",
    "def update_df(dataframe, list_updated):\n",
    "    dataframe.update(pd.DataFrame({\"sentence\": list_updated}))"
   ]
  },
  {
   "cell_type": "code",
   "execution_count": 14,
   "id": "d7f92b1b",
   "metadata": {},
   "outputs": [
    {
     "name": "stderr",
     "output_type": "stream",
     "text": [
      "C:\\Users\\Utilizador\\AppData\\Local\\Temp\\ipykernel_2632\\2950840024.py:11: TqdmDeprecationWarning: This function will be removed in tqdm==5.0.0\n",
      "Please use `tqdm.notebook.tqdm` instead of `tqdm.tqdm_notebook`\n",
      "  for j in tqdm(range(len(text_in))):\n"
     ]
    },
    {
     "data": {
      "application/vnd.jupyter.widget-view+json": {
       "model_id": "f83b00326c6d4ae1ace88221cfbd1042",
       "version_major": 2,
       "version_minor": 0
      },
      "text/plain": [
       "  0%|          | 0/15000 [00:00<?, ?it/s]"
      ]
     },
     "metadata": {},
     "output_type": "display_data"
    }
   ],
   "source": [
    "updates = clean(df1[\"sentence\"], lemmatize = True, stemmer = False)"
   ]
  },
  {
   "cell_type": "code",
   "execution_count": 15,
   "id": "907269c4",
   "metadata": {},
   "outputs": [
    {
     "data": {
      "text/html": [
       "<div>\n",
       "<style scoped>\n",
       "    .dataframe tbody tr th:only-of-type {\n",
       "        vertical-align: middle;\n",
       "    }\n",
       "\n",
       "    .dataframe tbody tr th {\n",
       "        vertical-align: top;\n",
       "    }\n",
       "\n",
       "    .dataframe thead th {\n",
       "        text-align: right;\n",
       "    }\n",
       "</style>\n",
       "<table border=\"1\" class=\"dataframe\">\n",
       "  <thead>\n",
       "    <tr style=\"text-align: right;\">\n",
       "      <th></th>\n",
       "      <th>sentence</th>\n",
       "      <th>emotion</th>\n",
       "    </tr>\n",
       "  </thead>\n",
       "  <tbody>\n",
       "    <tr>\n",
       "      <th>0</th>\n",
       "      <td>i m old traded</td>\n",
       "      <td>6</td>\n",
       "    </tr>\n",
       "    <tr>\n",
       "      <th>1</th>\n",
       "      <td>mother said tell lady hand</td>\n",
       "      <td>8</td>\n",
       "    </tr>\n",
       "    <tr>\n",
       "      <th>2</th>\n",
       "      <td>said i d leave time came</td>\n",
       "      <td>6</td>\n",
       "    </tr>\n",
       "    <tr>\n",
       "      <th>3</th>\n",
       "      <td>he ll safe</td>\n",
       "      <td>2</td>\n",
       "    </tr>\n",
       "    <tr>\n",
       "      <th>4</th>\n",
       "      <td>lay</td>\n",
       "      <td>1</td>\n",
       "    </tr>\n",
       "    <tr>\n",
       "      <th>...</th>\n",
       "      <td>...</td>\n",
       "      <td>...</td>\n",
       "    </tr>\n",
       "    <tr>\n",
       "      <th>14995</th>\n",
       "      <td>ask careful</td>\n",
       "      <td>4</td>\n",
       "    </tr>\n",
       "    <tr>\n",
       "      <th>14996</th>\n",
       "      <td>like jazz pal</td>\n",
       "      <td>7</td>\n",
       "    </tr>\n",
       "    <tr>\n",
       "      <th>14997</th>\n",
       "      <td></td>\n",
       "      <td>1</td>\n",
       "    </tr>\n",
       "    <tr>\n",
       "      <th>14998</th>\n",
       "      <td>imagine person spot like</td>\n",
       "      <td>7</td>\n",
       "    </tr>\n",
       "    <tr>\n",
       "      <th>14999</th>\n",
       "      <td>think gun able tell somebody s following</td>\n",
       "      <td>1</td>\n",
       "    </tr>\n",
       "  </tbody>\n",
       "</table>\n",
       "<p>15000 rows × 2 columns</p>\n",
       "</div>"
      ],
      "text/plain": [
       "                                       sentence  emotion\n",
       "0                                i m old traded        6\n",
       "1                    mother said tell lady hand        8\n",
       "2                      said i d leave time came        6\n",
       "3                                    he ll safe        2\n",
       "4                                           lay        1\n",
       "...                                         ...      ...\n",
       "14995                               ask careful        4\n",
       "14996                             like jazz pal        7\n",
       "14997                                                  1\n",
       "14998                  imagine person spot like        7\n",
       "14999  think gun able tell somebody s following        1\n",
       "\n",
       "[15000 rows x 2 columns]"
      ]
     },
     "execution_count": 15,
     "metadata": {},
     "output_type": "execute_result"
    }
   ],
   "source": [
    "update_df(df1, updates)\n",
    "df1"
   ]
  },
  {
   "cell_type": "code",
   "execution_count": 16,
   "id": "128941d2",
   "metadata": {},
   "outputs": [
    {
     "data": {
      "text/plain": [
       "sentence    0\n",
       "emotion     0\n",
       "dtype: int64"
      ]
     },
     "execution_count": 16,
     "metadata": {},
     "output_type": "execute_result"
    }
   ],
   "source": [
    "df1.isnull().sum()"
   ]
  },
  {
   "cell_type": "markdown",
   "id": "7315a2a0",
   "metadata": {},
   "source": [
    "### Training the Logistic Regression Model with train_set + dev_set"
   ]
  },
  {
   "cell_type": "code",
   "execution_count": 17,
   "id": "33f0fd17",
   "metadata": {},
   "outputs": [],
   "source": [
    "##Defining features and labels\n",
    "#Features are the attributes and variables extracted from the dataset. These extracted features are used as inputs to the model during training enabling model learning. Our features are present in the clean_sentence column.\n",
    "Xfeatures = df1['sentence']\n",
    "ylabels = df1['emotion']"
   ]
  },
  {
   "cell_type": "code",
   "execution_count": 18,
   "id": "d740b7c7",
   "metadata": {},
   "outputs": [],
   "source": [
    "#  Split Data\n",
    "X_train, X_test, y_train, y_test = train_test_split(Xfeatures,ylabels,test_size=0.2,random_state=42)"
   ]
  },
  {
   "cell_type": "code",
   "execution_count": 19,
   "id": "c2244d7e",
   "metadata": {},
   "outputs": [],
   "source": [
    "##Making the process of training our model faster and automated, we will use a machine learning pipeline. Machine learning pipelines automate the machine learning workflows such as model fitting and training.\n",
    "from sklearn.pipeline import Pipeline"
   ]
  },
  {
   "cell_type": "code",
   "execution_count": 20,
   "id": "94c89a70",
   "metadata": {},
   "outputs": [],
   "source": [
    "# LogisticRegression Pipeline\n",
    "pipe_lr = Pipeline(steps=[('cv',CountVectorizer()),('lr',LogisticRegression())])"
   ]
  },
  {
   "cell_type": "code",
   "execution_count": 21,
   "id": "48c33a10",
   "metadata": {},
   "outputs": [
    {
     "name": "stderr",
     "output_type": "stream",
     "text": [
      "C:\\Users\\Utilizador\\anaconda3\\envs\\TM_Lab\\lib\\site-packages\\sklearn\\linear_model\\_logistic.py:763: ConvergenceWarning: lbfgs failed to converge (status=1):\n",
      "STOP: TOTAL NO. of ITERATIONS REACHED LIMIT.\n",
      "\n",
      "Increase the number of iterations (max_iter) or scale the data as shown in:\n",
      "    https://scikit-learn.org/stable/modules/preprocessing.html\n",
      "Please also refer to the documentation for alternative solver options:\n",
      "    https://scikit-learn.org/stable/modules/linear_model.html#logistic-regression\n",
      "  n_iter_i = _check_optimize_result(\n"
     ]
    },
    {
     "data": {
      "text/plain": [
       "Pipeline(steps=[('cv', CountVectorizer()), ('lr', LogisticRegression())])"
      ]
     },
     "execution_count": 21,
     "metadata": {},
     "output_type": "execute_result"
    }
   ],
   "source": [
    "#Model fitting\n",
    "pipe_lr.fit(X_train, y_train)\n"
   ]
  },
  {
   "cell_type": "code",
   "execution_count": 22,
   "id": "a5e9b6ef",
   "metadata": {
    "scrolled": false
   },
   "outputs": [
    {
     "data": {
      "text/plain": [
       "Pipeline(steps=[('cv', CountVectorizer()), ('lr', LogisticRegression())])"
      ]
     },
     "execution_count": 22,
     "metadata": {},
     "output_type": "execute_result"
    }
   ],
   "source": [
    "pipe_lr"
   ]
  },
  {
   "cell_type": "code",
   "execution_count": 23,
   "id": "ca67fb95",
   "metadata": {},
   "outputs": [],
   "source": [
    "y_pred = pipe_lr.predict(X_test)"
   ]
  },
  {
   "cell_type": "markdown",
   "id": "19b3b148",
   "metadata": {},
   "source": [
    "### Dev_set prep for evaluation (REPORT ONLY)"
   ]
  },
  {
   "cell_type": "code",
   "execution_count": 24,
   "id": "2db08d5b",
   "metadata": {},
   "outputs": [],
   "source": [
    "df3['sentence'] = df3['sentence'].apply(nfx.remove_stopwords)"
   ]
  },
  {
   "cell_type": "code",
   "execution_count": 25,
   "id": "25425ab9",
   "metadata": {},
   "outputs": [
    {
     "name": "stderr",
     "output_type": "stream",
     "text": [
      "C:\\Users\\Utilizador\\AppData\\Local\\Temp\\ipykernel_2632\\2950840024.py:11: TqdmDeprecationWarning: This function will be removed in tqdm==5.0.0\n",
      "Please use `tqdm.notebook.tqdm` instead of `tqdm.tqdm_notebook`\n",
      "  for j in tqdm(range(len(text_in))):\n"
     ]
    },
    {
     "data": {
      "application/vnd.jupyter.widget-view+json": {
       "model_id": "d457904b9c0840a98f13ffb93116cc4e",
       "version_major": 2,
       "version_minor": 0
      },
      "text/plain": [
       "  0%|          | 0/14000 [00:00<?, ?it/s]"
      ]
     },
     "metadata": {},
     "output_type": "display_data"
    }
   ],
   "source": [
    "updates_3 = clean(df3[\"sentence\"], lemmatize = True, stemmer = False)"
   ]
  },
  {
   "cell_type": "code",
   "execution_count": 26,
   "id": "3cc07d94",
   "metadata": {},
   "outputs": [
    {
     "data": {
      "text/html": [
       "<div>\n",
       "<style scoped>\n",
       "    .dataframe tbody tr th:only-of-type {\n",
       "        vertical-align: middle;\n",
       "    }\n",
       "\n",
       "    .dataframe tbody tr th {\n",
       "        vertical-align: top;\n",
       "    }\n",
       "\n",
       "    .dataframe thead th {\n",
       "        text-align: right;\n",
       "    }\n",
       "</style>\n",
       "<table border=\"1\" class=\"dataframe\">\n",
       "  <thead>\n",
       "    <tr style=\"text-align: right;\">\n",
       "      <th></th>\n",
       "      <th>sentence</th>\n",
       "      <th>emotion</th>\n",
       "    </tr>\n",
       "  </thead>\n",
       "  <tbody>\n",
       "    <tr>\n",
       "      <th>0</th>\n",
       "      <td>i m old traded</td>\n",
       "      <td>6</td>\n",
       "    </tr>\n",
       "    <tr>\n",
       "      <th>1</th>\n",
       "      <td>mother said tell lady hand</td>\n",
       "      <td>8</td>\n",
       "    </tr>\n",
       "    <tr>\n",
       "      <th>2</th>\n",
       "      <td>said i d leave time came</td>\n",
       "      <td>6</td>\n",
       "    </tr>\n",
       "    <tr>\n",
       "      <th>3</th>\n",
       "      <td>he ll safe</td>\n",
       "      <td>2</td>\n",
       "    </tr>\n",
       "    <tr>\n",
       "      <th>4</th>\n",
       "      <td>lay</td>\n",
       "      <td>1</td>\n",
       "    </tr>\n",
       "    <tr>\n",
       "      <th>...</th>\n",
       "      <td>...</td>\n",
       "      <td>...</td>\n",
       "    </tr>\n",
       "    <tr>\n",
       "      <th>13995</th>\n",
       "      <td>yes commissioner</td>\n",
       "      <td>8</td>\n",
       "    </tr>\n",
       "    <tr>\n",
       "      <th>13996</th>\n",
       "      <td>ring</td>\n",
       "      <td>7</td>\n",
       "    </tr>\n",
       "    <tr>\n",
       "      <th>13997</th>\n",
       "      <td>greatest enduring love</td>\n",
       "      <td>5</td>\n",
       "    </tr>\n",
       "    <tr>\n",
       "      <th>13998</th>\n",
       "      <td>came war son</td>\n",
       "      <td>5</td>\n",
       "    </tr>\n",
       "    <tr>\n",
       "      <th>13999</th>\n",
       "      <td>word governor</td>\n",
       "      <td>6</td>\n",
       "    </tr>\n",
       "  </tbody>\n",
       "</table>\n",
       "<p>14000 rows × 2 columns</p>\n",
       "</div>"
      ],
      "text/plain": [
       "                         sentence  emotion\n",
       "0                  i m old traded        6\n",
       "1      mother said tell lady hand        8\n",
       "2        said i d leave time came        6\n",
       "3                      he ll safe        2\n",
       "4                             lay        1\n",
       "...                           ...      ...\n",
       "13995            yes commissioner        8\n",
       "13996                        ring        7\n",
       "13997      greatest enduring love        5\n",
       "13998                came war son        5\n",
       "13999               word governor        6\n",
       "\n",
       "[14000 rows x 2 columns]"
      ]
     },
     "execution_count": 26,
     "metadata": {},
     "output_type": "execute_result"
    }
   ],
   "source": [
    "update_df(df3, updates_3)\n",
    "df3"
   ]
  },
  {
   "cell_type": "code",
   "execution_count": 27,
   "id": "fae0f3fb",
   "metadata": {},
   "outputs": [
    {
     "data": {
      "text/plain": [
       "sentence    0\n",
       "emotion     0\n",
       "dtype: int64"
      ]
     },
     "execution_count": 27,
     "metadata": {},
     "output_type": "execute_result"
    }
   ],
   "source": [
    "df3.isnull().sum()"
   ]
  },
  {
   "cell_type": "code",
   "execution_count": 28,
   "id": "e183cef5",
   "metadata": {},
   "outputs": [],
   "source": [
    "Xfeatures_3 = df3['sentence']\n",
    "ylabels_3 = df3['emotion']"
   ]
  },
  {
   "cell_type": "code",
   "execution_count": 29,
   "id": "a7f13a8c",
   "metadata": {},
   "outputs": [],
   "source": [
    "X_train_3, X_test_3, y_train_3, y_test_3 = train_test_split(Xfeatures_3 ,ylabels_3 ,test_size=0.2,random_state=42)"
   ]
  },
  {
   "cell_type": "code",
   "execution_count": 30,
   "id": "a86dafa0",
   "metadata": {},
   "outputs": [],
   "source": [
    "pipe_lr_3 = Pipeline(steps=[('cv',CountVectorizer()),('lr',LogisticRegression())])"
   ]
  },
  {
   "cell_type": "code",
   "execution_count": 31,
   "id": "762fbc7a",
   "metadata": {},
   "outputs": [
    {
     "name": "stderr",
     "output_type": "stream",
     "text": [
      "C:\\Users\\Utilizador\\anaconda3\\envs\\TM_Lab\\lib\\site-packages\\sklearn\\linear_model\\_logistic.py:763: ConvergenceWarning: lbfgs failed to converge (status=1):\n",
      "STOP: TOTAL NO. of ITERATIONS REACHED LIMIT.\n",
      "\n",
      "Increase the number of iterations (max_iter) or scale the data as shown in:\n",
      "    https://scikit-learn.org/stable/modules/preprocessing.html\n",
      "Please also refer to the documentation for alternative solver options:\n",
      "    https://scikit-learn.org/stable/modules/linear_model.html#logistic-regression\n",
      "  n_iter_i = _check_optimize_result(\n"
     ]
    },
    {
     "data": {
      "text/plain": [
       "Pipeline(steps=[('cv', CountVectorizer()), ('lr', LogisticRegression())])"
      ]
     },
     "execution_count": 31,
     "metadata": {},
     "output_type": "execute_result"
    }
   ],
   "source": [
    "pipe_lr_3.fit(X_train_3, y_train_3)"
   ]
  },
  {
   "cell_type": "code",
   "execution_count": 32,
   "id": "3e15caa0",
   "metadata": {},
   "outputs": [
    {
     "data": {
      "text/plain": [
       "Pipeline(steps=[('cv', CountVectorizer()), ('lr', LogisticRegression())])"
      ]
     },
     "execution_count": 32,
     "metadata": {},
     "output_type": "execute_result"
    }
   ],
   "source": [
    "pipe_lr_3"
   ]
  },
  {
   "cell_type": "code",
   "execution_count": 33,
   "id": "b095a7e8",
   "metadata": {},
   "outputs": [],
   "source": [
    "#### dev_set clean to predict emotion\n",
    "df4['sentence'] = df4['sentence'].apply(nfx.remove_stopwords)"
   ]
  },
  {
   "cell_type": "code",
   "execution_count": 34,
   "id": "8ba868e1",
   "metadata": {},
   "outputs": [
    {
     "name": "stderr",
     "output_type": "stream",
     "text": [
      "C:\\Users\\Utilizador\\AppData\\Local\\Temp\\ipykernel_2632\\2950840024.py:11: TqdmDeprecationWarning: This function will be removed in tqdm==5.0.0\n",
      "Please use `tqdm.notebook.tqdm` instead of `tqdm.tqdm_notebook`\n",
      "  for j in tqdm(range(len(text_in))):\n"
     ]
    },
    {
     "data": {
      "application/vnd.jupyter.widget-view+json": {
       "model_id": "353dafb68a984c5eb445ef25ddff7112",
       "version_major": 2,
       "version_minor": 0
      },
      "text/plain": [
       "  0%|          | 0/1000 [00:00<?, ?it/s]"
      ]
     },
     "metadata": {},
     "output_type": "display_data"
    }
   ],
   "source": [
    "updates_4 = clean(df4[\"sentence\"], lemmatize = True, stemmer = False)"
   ]
  },
  {
   "cell_type": "code",
   "execution_count": 35,
   "id": "5445b102",
   "metadata": {},
   "outputs": [
    {
     "data": {
      "text/html": [
       "<div>\n",
       "<style scoped>\n",
       "    .dataframe tbody tr th:only-of-type {\n",
       "        vertical-align: middle;\n",
       "    }\n",
       "\n",
       "    .dataframe tbody tr th {\n",
       "        vertical-align: top;\n",
       "    }\n",
       "\n",
       "    .dataframe thead th {\n",
       "        text-align: right;\n",
       "    }\n",
       "</style>\n",
       "<table border=\"1\" class=\"dataframe\">\n",
       "  <thead>\n",
       "    <tr style=\"text-align: right;\">\n",
       "      <th></th>\n",
       "      <th>sentence</th>\n",
       "      <th>emotion</th>\n",
       "    </tr>\n",
       "  </thead>\n",
       "  <tbody>\n",
       "    <tr>\n",
       "      <th>0</th>\n",
       "      <td>happens gold safe</td>\n",
       "      <td>4</td>\n",
       "    </tr>\n",
       "    <tr>\n",
       "      <th>1</th>\n",
       "      <td>natural cold foot</td>\n",
       "      <td>8</td>\n",
       "    </tr>\n",
       "    <tr>\n",
       "      <th>2</th>\n",
       "      <td>lucky</td>\n",
       "      <td>7</td>\n",
       "    </tr>\n",
       "    <tr>\n",
       "      <th>3</th>\n",
       "      <td>i m little anxious whoop et s as that s</td>\n",
       "      <td>2</td>\n",
       "    </tr>\n",
       "    <tr>\n",
       "      <th>4</th>\n",
       "      <td>think know affair government official</td>\n",
       "      <td>1</td>\n",
       "    </tr>\n",
       "    <tr>\n",
       "      <th>...</th>\n",
       "      <td>...</td>\n",
       "      <td>...</td>\n",
       "    </tr>\n",
       "    <tr>\n",
       "      <th>995</th>\n",
       "      <td>ask careful</td>\n",
       "      <td>4</td>\n",
       "    </tr>\n",
       "    <tr>\n",
       "      <th>996</th>\n",
       "      <td>like jazz pal</td>\n",
       "      <td>7</td>\n",
       "    </tr>\n",
       "    <tr>\n",
       "      <th>997</th>\n",
       "      <td></td>\n",
       "      <td>1</td>\n",
       "    </tr>\n",
       "    <tr>\n",
       "      <th>998</th>\n",
       "      <td>imagine person spot like</td>\n",
       "      <td>7</td>\n",
       "    </tr>\n",
       "    <tr>\n",
       "      <th>999</th>\n",
       "      <td>think gun able tell somebody s following</td>\n",
       "      <td>1</td>\n",
       "    </tr>\n",
       "  </tbody>\n",
       "</table>\n",
       "<p>1000 rows × 2 columns</p>\n",
       "</div>"
      ],
      "text/plain": [
       "                                     sentence  emotion\n",
       "0                           happens gold safe        4\n",
       "1                           natural cold foot        8\n",
       "2                                       lucky        7\n",
       "3     i m little anxious whoop et s as that s        2\n",
       "4       think know affair government official        1\n",
       "..                                        ...      ...\n",
       "995                               ask careful        4\n",
       "996                             like jazz pal        7\n",
       "997                                                  1\n",
       "998                  imagine person spot like        7\n",
       "999  think gun able tell somebody s following        1\n",
       "\n",
       "[1000 rows x 2 columns]"
      ]
     },
     "execution_count": 35,
     "metadata": {},
     "output_type": "execute_result"
    }
   ],
   "source": [
    "update_df(df4, updates_4)\n",
    "df4"
   ]
  },
  {
   "cell_type": "code",
   "execution_count": 36,
   "id": "e98831f5",
   "metadata": {},
   "outputs": [],
   "source": [
    "X_test_3 = df4[\"sentence\"]"
   ]
  },
  {
   "cell_type": "code",
   "execution_count": 37,
   "id": "15d50c2f",
   "metadata": {},
   "outputs": [],
   "source": [
    "y_test_3 = df4[\"emotion\"]"
   ]
  },
  {
   "cell_type": "code",
   "execution_count": 38,
   "id": "200e6a8b",
   "metadata": {},
   "outputs": [],
   "source": [
    "y_pred_3 = pipe_lr_3.predict(X_test_3)"
   ]
  },
  {
   "cell_type": "code",
   "execution_count": 39,
   "id": "4347a583",
   "metadata": {},
   "outputs": [],
   "source": [
    "df4[\"emotion\"] = y_pred_3"
   ]
  },
  {
   "cell_type": "code",
   "execution_count": 40,
   "id": "aeb5fae0",
   "metadata": {},
   "outputs": [
    {
     "data": {
      "text/html": [
       "<div>\n",
       "<style scoped>\n",
       "    .dataframe tbody tr th:only-of-type {\n",
       "        vertical-align: middle;\n",
       "    }\n",
       "\n",
       "    .dataframe tbody tr th {\n",
       "        vertical-align: top;\n",
       "    }\n",
       "\n",
       "    .dataframe thead th {\n",
       "        text-align: right;\n",
       "    }\n",
       "</style>\n",
       "<table border=\"1\" class=\"dataframe\">\n",
       "  <thead>\n",
       "    <tr style=\"text-align: right;\">\n",
       "      <th></th>\n",
       "      <th>sentence</th>\n",
       "      <th>emotion</th>\n",
       "    </tr>\n",
       "  </thead>\n",
       "  <tbody>\n",
       "    <tr>\n",
       "      <th>0</th>\n",
       "      <td>happens gold safe</td>\n",
       "      <td>8</td>\n",
       "    </tr>\n",
       "    <tr>\n",
       "      <th>1</th>\n",
       "      <td>natural cold foot</td>\n",
       "      <td>6</td>\n",
       "    </tr>\n",
       "    <tr>\n",
       "      <th>2</th>\n",
       "      <td>lucky</td>\n",
       "      <td>5</td>\n",
       "    </tr>\n",
       "    <tr>\n",
       "      <th>3</th>\n",
       "      <td>i m little anxious whoop et s as that s</td>\n",
       "      <td>3</td>\n",
       "    </tr>\n",
       "    <tr>\n",
       "      <th>4</th>\n",
       "      <td>think know affair government official</td>\n",
       "      <td>1</td>\n",
       "    </tr>\n",
       "    <tr>\n",
       "      <th>...</th>\n",
       "      <td>...</td>\n",
       "      <td>...</td>\n",
       "    </tr>\n",
       "    <tr>\n",
       "      <th>995</th>\n",
       "      <td>ask careful</td>\n",
       "      <td>4</td>\n",
       "    </tr>\n",
       "    <tr>\n",
       "      <th>996</th>\n",
       "      <td>like jazz pal</td>\n",
       "      <td>8</td>\n",
       "    </tr>\n",
       "    <tr>\n",
       "      <th>997</th>\n",
       "      <td></td>\n",
       "      <td>1</td>\n",
       "    </tr>\n",
       "    <tr>\n",
       "      <th>998</th>\n",
       "      <td>imagine person spot like</td>\n",
       "      <td>2</td>\n",
       "    </tr>\n",
       "    <tr>\n",
       "      <th>999</th>\n",
       "      <td>think gun able tell somebody s following</td>\n",
       "      <td>4</td>\n",
       "    </tr>\n",
       "  </tbody>\n",
       "</table>\n",
       "<p>1000 rows × 2 columns</p>\n",
       "</div>"
      ],
      "text/plain": [
       "                                     sentence  emotion\n",
       "0                           happens gold safe        8\n",
       "1                           natural cold foot        6\n",
       "2                                       lucky        5\n",
       "3     i m little anxious whoop et s as that s        3\n",
       "4       think know affair government official        1\n",
       "..                                        ...      ...\n",
       "995                               ask careful        4\n",
       "996                             like jazz pal        8\n",
       "997                                                  1\n",
       "998                  imagine person spot like        2\n",
       "999  think gun able tell somebody s following        4\n",
       "\n",
       "[1000 rows x 2 columns]"
      ]
     },
     "execution_count": 40,
     "metadata": {},
     "output_type": "execute_result"
    }
   ],
   "source": [
    "df4"
   ]
  },
  {
   "cell_type": "code",
   "execution_count": 41,
   "id": "3c949594",
   "metadata": {},
   "outputs": [],
   "source": [
    "### save to file\n",
    "df4.to_csv('dev_results.txt.txt', header=True, sep ='\\t', index =False)"
   ]
  },
  {
   "cell_type": "markdown",
   "id": "19bf6173",
   "metadata": {},
   "source": [
    "##### Evaluation"
   ]
  },
  {
   "cell_type": "code",
   "execution_count": 42,
   "id": "ce56c404",
   "metadata": {},
   "outputs": [],
   "source": [
    "# Function to plot a confusion Matrix with true emotion and predicted emotion\n",
    "def plot_confusion_matrix(y_true, y_pred, classes,\n",
    "                          normalize=False,\n",
    "                          title=None,\n",
    "                          cmap=plt.cm.Blues):\n",
    "    '''\n",
    "    This function prints and plots the confusion matrix.\n",
    "    Normalization can be applied by setting `normalize=True`.\n",
    "    '''\n",
    "    if not title:\n",
    "        if normalize:\n",
    "            title = 'Normalized confusion matrix'\n",
    "        else:\n",
    "            title = 'Confusion matrix, without normalization'\n",
    "\n",
    "    # Compute confusion matrix\n",
    "    cm = confusion_matrix(y_true, y_pred)\n",
    "\n",
    "    if normalize:\n",
    "        cm = cm.astype('float') / cm.sum(axis=1)[:, np.newaxis]\n",
    "\n",
    "    fig, ax = plt.subplots()\n",
    "    \n",
    "    # Set size\n",
    "    fig.set_size_inches(12.5, 7.5)\n",
    "    im = ax.imshow(cm, interpolation='nearest', cmap=cmap)\n",
    "    ax.figure.colorbar(im, ax=ax)\n",
    "    ax.grid(False)\n",
    "    \n",
    "    # We want to show all ticks...\n",
    "    ax.set(xticks=np.arange(cm.shape[1]),\n",
    "           yticks=np.arange(cm.shape[0]),\n",
    "           # ... and label them with the respective list entries\n",
    "           xticklabels=classes, yticklabels=classes,\n",
    "           title=title,\n",
    "           ylabel='True label',\n",
    "           xlabel='Predicted label')\n",
    "\n",
    "    # Rotate the tick labels and set their alignment.\n",
    "    plt.setp(ax.get_xticklabels(), rotation=45, ha=\"right\",\n",
    "             rotation_mode=\"anchor\")\n",
    "\n",
    "    # Loop over data dimensions and create text annotations.\n",
    "    fmt = '.2f' if normalize else 'd'\n",
    "    thresh = cm.max() / 2.\n",
    "    for i in range(cm.shape[0]):\n",
    "        for j in range(cm.shape[1]):\n",
    "            ax.text(j, i, format(cm[i, j], fmt),\n",
    "                    ha=\"center\", va=\"center\",\n",
    "                    color=\"white\" if cm[i, j] > thresh else \"black\")\n",
    "    fig.tight_layout()\n",
    "    return ax"
   ]
  },
  {
   "cell_type": "code",
   "execution_count": 43,
   "id": "1f0614b1",
   "metadata": {},
   "outputs": [
    {
     "name": "stdout",
     "output_type": "stream",
     "text": [
      "Classification report dev_set:\n",
      "               precision    recall  f1-score   support\n",
      "\n",
      "           6       0.32      0.25      0.28        87\n",
      "           8       0.33      0.30      0.31       158\n",
      "           2       0.36      0.37      0.37       170\n",
      "           1       0.35      0.59      0.44       211\n",
      "           4       0.39      0.29      0.33       104\n",
      "           5       0.37      0.34      0.35        97\n",
      "           3       0.28      0.16      0.20        77\n",
      "           7       0.43      0.24      0.31        96\n",
      "\n",
      "    accuracy                           0.35      1000\n",
      "   macro avg       0.35      0.32      0.32      1000\n",
      "weighted avg       0.36      0.35      0.34      1000\n",
      "\n"
     ]
    }
   ],
   "source": [
    "##### Evaluation of the dev_set only\n",
    "print(\"Classification report dev_set:\\n\",classification_report(y_test_3, y_pred_3, labels = class_names))"
   ]
  },
  {
   "cell_type": "code",
   "execution_count": 44,
   "id": "8ff3f944",
   "metadata": {},
   "outputs": [
    {
     "name": "stdout",
     "output_type": "stream",
     "text": [
      "\n",
      "Confusion Matrix dev_set:\n",
      " [[124  23  11  14   4  13   6  16]\n",
      " [ 45  63   6   8  12   5   8  23]\n",
      " [ 33  14  12   3   3   4   1   7]\n",
      " [ 32   9   3  30   4   7   3  16]\n",
      " [ 16  17   3   2  33   4   7  15]\n",
      " [ 32   9   2   7   8  22   3   4]\n",
      " [ 27  15   1   5   5   6  23  14]\n",
      " [ 45  24   5   7  20   7   3  47]]\n"
     ]
    },
    {
     "data": {
      "image/png": "[encoded data removed]",
      "text/plain": [
       "<Figure size 900x540 with 2 Axes>"
      ]
     },
     "metadata": {
      "needs_background": "light"
     },
     "output_type": "display_data"
    }
   ],
   "source": [
    "##### Confusion matrix of the dev_set only\n",
    "\n",
    "print(\"\\nConfusion Matrix dev_set:\\n\", confusion_matrix(y_test_3, y_pred_3))\n",
    "\n",
    "# Plot normalized confusion matrix\n",
    "plot_confusion_matrix(y_test_3, y_pred_3, classes=class_names, normalize=True, title='Normalized confusion matrix dev_set')\n",
    "plt.show()"
   ]
  },
  {
   "cell_type": "code",
   "execution_count": 45,
   "id": "a2842c7f",
   "metadata": {},
   "outputs": [
    {
     "name": "stdout",
     "output_type": "stream",
     "text": [
      "Classification report train_set + dev_set:\n",
      "               precision    recall  f1-score   support\n",
      "\n",
      "           6       0.37      0.27      0.32       290\n",
      "           8       0.32      0.34      0.33       432\n",
      "           2       0.34      0.38      0.36       476\n",
      "           1       0.35      0.55      0.43       641\n",
      "           4       0.29      0.25      0.27       297\n",
      "           5       0.55      0.46      0.50       329\n",
      "           3       0.33      0.17      0.22       263\n",
      "           7       0.30      0.13      0.18       272\n",
      "\n",
      "    accuracy                           0.36      3000\n",
      "   macro avg       0.36      0.32      0.33      3000\n",
      "weighted avg       0.36      0.36      0.34      3000\n",
      "\n"
     ]
    }
   ],
   "source": [
    "#### Evaluation of the train_set + dev_set\n",
    "print(\"Classification report train_set + dev_set:\\n\",classification_report(y_test, y_pred, labels = class_names))"
   ]
  },
  {
   "cell_type": "code",
   "execution_count": 46,
   "id": "2155fe5a",
   "metadata": {},
   "outputs": [
    {
     "data": {
      "image/png": "[encoded data removed]",
      "text/plain": [
       "<Figure size 900x540 with 2 Axes>"
      ]
     },
     "metadata": {
      "needs_background": "light"
     },
     "output_type": "display_data"
    }
   ],
   "source": [
    "#### Confusion matrix of the train_set + dev_set\n",
    "\n",
    "# Plot normalized confusion matrix\n",
    "plot_confusion_matrix(y_test, y_pred, classes=class_names, normalize=True, \n",
    "                      title='Normalized confusion matrix train_set + dev_set')\n",
    "plt.show()"
   ]
  },
  {
   "cell_type": "markdown",
   "id": "2d44370d",
   "metadata": {},
   "source": [
    "### Predict Test_Set Emotion"
   ]
  },
  {
   "cell_type": "code",
   "execution_count": 47,
   "id": "142ade55",
   "metadata": {},
   "outputs": [],
   "source": [
    "#Clean Test_set\n",
    "df2['sentence'] = df2['sentence'].apply(nfx.remove_stopwords)"
   ]
  },
  {
   "cell_type": "code",
   "execution_count": 48,
   "id": "42bbc031",
   "metadata": {},
   "outputs": [
    {
     "name": "stderr",
     "output_type": "stream",
     "text": [
      "C:\\Users\\Utilizador\\AppData\\Local\\Temp\\ipykernel_2632\\2950840024.py:11: TqdmDeprecationWarning: This function will be removed in tqdm==5.0.0\n",
      "Please use `tqdm.notebook.tqdm` instead of `tqdm.tqdm_notebook`\n",
      "  for j in tqdm(range(len(text_in))):\n"
     ]
    },
    {
     "data": {
      "application/vnd.jupyter.widget-view+json": {
       "model_id": "45bc1e6c53ce4a0ea0380fc2acfa0f2b",
       "version_major": 2,
       "version_minor": 0
      },
      "text/plain": [
       "  0%|          | 0/2000 [00:00<?, ?it/s]"
      ]
     },
     "metadata": {},
     "output_type": "display_data"
    }
   ],
   "source": [
    "updates_2 = clean(df2[\"sentence\"], lemmatize = True, stemmer = False)"
   ]
  },
  {
   "cell_type": "code",
   "execution_count": 49,
   "id": "f4d735b3",
   "metadata": {},
   "outputs": [
    {
     "data": {
      "text/html": [
       "<div>\n",
       "<style scoped>\n",
       "    .dataframe tbody tr th:only-of-type {\n",
       "        vertical-align: middle;\n",
       "    }\n",
       "\n",
       "    .dataframe tbody tr th {\n",
       "        vertical-align: top;\n",
       "    }\n",
       "\n",
       "    .dataframe thead th {\n",
       "        text-align: right;\n",
       "    }\n",
       "</style>\n",
       "<table border=\"1\" class=\"dataframe\">\n",
       "  <thead>\n",
       "    <tr style=\"text-align: right;\">\n",
       "      <th></th>\n",
       "      <th>sentence</th>\n",
       "    </tr>\n",
       "  </thead>\n",
       "  <tbody>\n",
       "    <tr>\n",
       "      <th>0</th>\n",
       "      <td>come let s automobile</td>\n",
       "    </tr>\n",
       "    <tr>\n",
       "      <th>1</th>\n",
       "      <td>time</td>\n",
       "    </tr>\n",
       "    <tr>\n",
       "      <th>2</th>\n",
       "      <td>he s trouble boy</td>\n",
       "    </tr>\n",
       "    <tr>\n",
       "      <th>3</th>\n",
       "      <td>criminal gang unit control</td>\n",
       "    </tr>\n",
       "    <tr>\n",
       "      <th>4</th>\n",
       "      <td>molto discussion interview</td>\n",
       "    </tr>\n",
       "    <tr>\n",
       "      <th>...</th>\n",
       "      <td>...</td>\n",
       "    </tr>\n",
       "    <tr>\n",
       "      <th>1995</th>\n",
       "      <td>let s good</td>\n",
       "    </tr>\n",
       "    <tr>\n",
       "      <th>1996</th>\n",
       "      <td>hey looking good</td>\n",
       "    </tr>\n",
       "    <tr>\n",
       "      <th>1997</th>\n",
       "      <td>moved embassy hijacking</td>\n",
       "    </tr>\n",
       "    <tr>\n",
       "      <th>1998</th>\n",
       "      <td></td>\n",
       "    </tr>\n",
       "    <tr>\n",
       "      <th>1999</th>\n",
       "      <td>imagine interplanetary trade exciting</td>\n",
       "    </tr>\n",
       "  </tbody>\n",
       "</table>\n",
       "<p>2000 rows × 1 columns</p>\n",
       "</div>"
      ],
      "text/plain": [
       "                                   sentence\n",
       "0                     come let s automobile\n",
       "1                                      time\n",
       "2                          he s trouble boy\n",
       "3                criminal gang unit control\n",
       "4                molto discussion interview\n",
       "...                                     ...\n",
       "1995                             let s good\n",
       "1996                       hey looking good\n",
       "1997                moved embassy hijacking\n",
       "1998                                       \n",
       "1999  imagine interplanetary trade exciting\n",
       "\n",
       "[2000 rows x 1 columns]"
      ]
     },
     "execution_count": 49,
     "metadata": {},
     "output_type": "execute_result"
    }
   ],
   "source": [
    "update_df(df2, updates_2)\n",
    "df2"
   ]
  },
  {
   "cell_type": "code",
   "execution_count": 50,
   "id": "e0deaa39",
   "metadata": {},
   "outputs": [
    {
     "data": {
      "text/plain": [
       "sentence    0\n",
       "dtype: int64"
      ]
     },
     "execution_count": 50,
     "metadata": {},
     "output_type": "execute_result"
    }
   ],
   "source": [
    "# Checking for null/empty cells\n",
    "df2.isnull().sum()"
   ]
  },
  {
   "cell_type": "code",
   "execution_count": 51,
   "id": "bd39d675",
   "metadata": {},
   "outputs": [],
   "source": [
    "X_test_2 = df2[\"sentence\"]"
   ]
  },
  {
   "cell_type": "code",
   "execution_count": 52,
   "id": "6c28469a",
   "metadata": {},
   "outputs": [],
   "source": [
    "### emotion prediction\n",
    "y_pred_2 = pipe_lr.predict(X_test_2)"
   ]
  },
  {
   "cell_type": "code",
   "execution_count": 53,
   "id": "ed450f8d",
   "metadata": {},
   "outputs": [],
   "source": [
    "df2[\"emotion\"] = y_pred_2"
   ]
  },
  {
   "cell_type": "code",
   "execution_count": 54,
   "id": "d82e54be",
   "metadata": {},
   "outputs": [
    {
     "data": {
      "text/plain": [
       "2000"
      ]
     },
     "execution_count": 54,
     "metadata": {},
     "output_type": "execute_result"
    }
   ],
   "source": [
    "# Size of train data\n",
    "len(df2)"
   ]
  },
  {
   "cell_type": "code",
   "execution_count": 55,
   "id": "2c78a07d",
   "metadata": {},
   "outputs": [
    {
     "data": {
      "text/html": [
       "<div>\n",
       "<style scoped>\n",
       "    .dataframe tbody tr th:only-of-type {\n",
       "        vertical-align: middle;\n",
       "    }\n",
       "\n",
       "    .dataframe tbody tr th {\n",
       "        vertical-align: top;\n",
       "    }\n",
       "\n",
       "    .dataframe thead th {\n",
       "        text-align: right;\n",
       "    }\n",
       "</style>\n",
       "<table border=\"1\" class=\"dataframe\">\n",
       "  <thead>\n",
       "    <tr style=\"text-align: right;\">\n",
       "      <th></th>\n",
       "      <th>sentence</th>\n",
       "      <th>emotion</th>\n",
       "    </tr>\n",
       "  </thead>\n",
       "  <tbody>\n",
       "    <tr>\n",
       "      <th>100</th>\n",
       "      <td>real ghost</td>\n",
       "      <td>7</td>\n",
       "    </tr>\n",
       "    <tr>\n",
       "      <th>101</th>\n",
       "      <td>trouble like school</td>\n",
       "      <td>4</td>\n",
       "    </tr>\n",
       "    <tr>\n",
       "      <th>102</th>\n",
       "      <td>vice president call i ll meet centre aisle</td>\n",
       "      <td>2</td>\n",
       "    </tr>\n",
       "    <tr>\n",
       "      <th>103</th>\n",
       "      <td>chilli</td>\n",
       "      <td>1</td>\n",
       "    </tr>\n",
       "    <tr>\n",
       "      <th>104</th>\n",
       "      <td>ended pretty good thing</td>\n",
       "      <td>5</td>\n",
       "    </tr>\n",
       "    <tr>\n",
       "      <th>...</th>\n",
       "      <td>...</td>\n",
       "      <td>...</td>\n",
       "    </tr>\n",
       "    <tr>\n",
       "      <th>395</th>\n",
       "      <td>plan</td>\n",
       "      <td>1</td>\n",
       "    </tr>\n",
       "    <tr>\n",
       "      <th>396</th>\n",
       "      <td>close</td>\n",
       "      <td>8</td>\n",
       "    </tr>\n",
       "    <tr>\n",
       "      <th>397</th>\n",
       "      <td>herb</td>\n",
       "      <td>1</td>\n",
       "    </tr>\n",
       "    <tr>\n",
       "      <th>398</th>\n",
       "      <td>hate villain</td>\n",
       "      <td>1</td>\n",
       "    </tr>\n",
       "    <tr>\n",
       "      <th>399</th>\n",
       "      <td>understand important believe love heart</td>\n",
       "      <td>8</td>\n",
       "    </tr>\n",
       "  </tbody>\n",
       "</table>\n",
       "<p>300 rows × 2 columns</p>\n",
       "</div>"
      ],
      "text/plain": [
       "                                       sentence  emotion\n",
       "100                                  real ghost        7\n",
       "101                         trouble like school        4\n",
       "102  vice president call i ll meet centre aisle        2\n",
       "103                                      chilli        1\n",
       "104                     ended pretty good thing        5\n",
       "..                                          ...      ...\n",
       "395                                        plan        1\n",
       "396                                       close        8\n",
       "397                                        herb        1\n",
       "398                                hate villain        1\n",
       "399     understand important believe love heart        8\n",
       "\n",
       "[300 rows x 2 columns]"
      ]
     },
     "execution_count": 55,
     "metadata": {},
     "output_type": "execute_result"
    }
   ],
   "source": [
    "# emotion predicted\n",
    "df2[100:400]"
   ]
  },
  {
   "cell_type": "code",
   "execution_count": 56,
   "id": "f1ac0a4f",
   "metadata": {},
   "outputs": [],
   "source": [
    "### save to file\n",
    "df2.to_csv('test_results.txt', header=True, sep ='\\t', index =False)"
   ]
  },
  {
   "cell_type": "markdown",
   "id": "fa8b74cd",
   "metadata": {},
   "source": [
    "### k-Nearest Neighbors (kNN) Regressor"
   ]
  },
  {
   "cell_type": "code",
   "execution_count": 57,
   "id": "cf2e0fcc",
   "metadata": {},
   "outputs": [],
   "source": [
    "pipe_KNN = Pipeline(steps=[('cv',CountVectorizer()),('knn', KNeighborsClassifier(n_neighbors=10))])"
   ]
  },
  {
   "cell_type": "code",
   "execution_count": 58,
   "id": "fb251947",
   "metadata": {},
   "outputs": [
    {
     "data": {
      "text/plain": [
       "Pipeline(steps=[('cv', CountVectorizer()),\n",
       "                ('knn', KNeighborsClassifier(n_neighbors=10))])"
      ]
     },
     "execution_count": 58,
     "metadata": {},
     "output_type": "execute_result"
    }
   ],
   "source": [
    "pipe_KNN.fit(X_train_3, y_train_3)"
   ]
  },
  {
   "cell_type": "code",
   "execution_count": 59,
   "id": "5e658320",
   "metadata": {},
   "outputs": [],
   "source": [
    "y_pred_3 = pipe_KNN.predict(X_test_3)"
   ]
  },
  {
   "cell_type": "code",
   "execution_count": 60,
   "id": "efb42b51",
   "metadata": {},
   "outputs": [
    {
     "name": "stdout",
     "output_type": "stream",
     "text": [
      "Classification report dev_set:\n",
      "               precision    recall  f1-score   support\n",
      "\n",
      "           6       0.11      0.05      0.06        87\n",
      "           8       0.33      0.14      0.20       158\n",
      "           2       0.22      0.36      0.27       170\n",
      "           1       0.25      0.51      0.34       211\n",
      "           4       0.19      0.11      0.14       104\n",
      "           5       0.35      0.26      0.30        97\n",
      "           3       0.00      0.00      0.00        77\n",
      "           7       0.28      0.19      0.23        96\n",
      "\n",
      "    accuracy                           0.25      1000\n",
      "   macro avg       0.22      0.20      0.19      1000\n",
      "weighted avg       0.23      0.25      0.22      1000\n",
      "\n"
     ]
    }
   ],
   "source": [
    "#### Evaluation of the dev_set\n",
    "print(\"Classification report dev_set:\\n\",classification_report(y_test_3, y_pred_3, labels = class_names))"
   ]
  },
  {
   "cell_type": "code",
   "execution_count": 61,
   "id": "7ce4bf4d",
   "metadata": {},
   "outputs": [
    {
     "name": "stdout",
     "output_type": "stream",
     "text": [
      "\n",
      "Confusion Matrix dev_set:\n",
      " [[107  66   0   9   6   8   7   8]\n",
      " [ 62  61   0   8   9   6  12  12]\n",
      " [ 43  15   0   4   0   3   6   6]\n",
      " [ 51  22   1  11   4   5   7   3]\n",
      " [ 29  21   3   1  25   4   8   6]\n",
      " [ 40  23   1   7   5   4   2   5]\n",
      " [ 35  23   1   8   3   3  18   5]\n",
      " [ 54  44   0  10  19   5   4  22]]\n"
     ]
    },
    {
     "data": {
      "image/png": "[encoded data removed]",
      "text/plain": [
       "<Figure size 900x540 with 2 Axes>"
      ]
     },
     "metadata": {
      "needs_background": "light"
     },
     "output_type": "display_data"
    }
   ],
   "source": [
    "##### Confusion matrix of the dev_set only\n",
    "\n",
    "print(\"\\nConfusion Matrix dev_set:\\n\", confusion_matrix(y_test_3, y_pred_3))\n",
    "\n",
    "# Plot normalized confusion matrix\n",
    "plot_confusion_matrix(y_test_3, y_pred_3, classes=class_names, normalize=True, title='Normalized confusion matrix dev_set')\n",
    "plt.show()"
   ]
  },
  {
   "cell_type": "markdown",
   "id": "0ee47f49",
   "metadata": {},
   "source": [
    "### Naive Bayes"
   ]
  },
  {
   "cell_type": "code",
   "execution_count": 62,
   "id": "fd7faeac",
   "metadata": {},
   "outputs": [],
   "source": [
    "pipe_NB = Pipeline(steps=[('cv',CountVectorizer()),('nb', MultinomialNB())])"
   ]
  },
  {
   "cell_type": "code",
   "execution_count": 63,
   "id": "2dad5891",
   "metadata": {},
   "outputs": [
    {
     "data": {
      "text/plain": [
       "Pipeline(steps=[('cv', CountVectorizer()), ('nb', MultinomialNB())])"
      ]
     },
     "execution_count": 63,
     "metadata": {},
     "output_type": "execute_result"
    }
   ],
   "source": [
    "pipe_NB.fit(X_train_3, y_train_3)"
   ]
  },
  {
   "cell_type": "code",
   "execution_count": 64,
   "id": "e58e1721",
   "metadata": {},
   "outputs": [],
   "source": [
    "y_pred_3 = pipe_NB.predict(X_test_3)"
   ]
  },
  {
   "cell_type": "code",
   "execution_count": 65,
   "id": "a9d1d9ac",
   "metadata": {},
   "outputs": [
    {
     "name": "stdout",
     "output_type": "stream",
     "text": [
      "Classification report dev_set:\n",
      "               precision    recall  f1-score   support\n",
      "\n",
      "           6       0.37      0.21      0.26        87\n",
      "           8       0.35      0.33      0.34       158\n",
      "           2       0.34      0.39      0.36       170\n",
      "           1       0.33      0.68      0.45       211\n",
      "           4       0.37      0.18      0.25       104\n",
      "           5       0.37      0.32      0.34        97\n",
      "           3       0.07      0.03      0.04        77\n",
      "           7       0.47      0.07      0.13        96\n",
      "\n",
      "    accuracy                           0.34      1000\n",
      "   macro avg       0.33      0.28      0.27      1000\n",
      "weighted avg       0.34      0.34      0.31      1000\n",
      "\n"
     ]
    }
   ],
   "source": [
    "#### Evaluation of the dev_set\n",
    "print(\"Classification report dev_set:\\n\",classification_report(y_test_3, y_pred_3, labels = class_names))"
   ]
  },
  {
   "cell_type": "code",
   "execution_count": 66,
   "id": "8ad45e53",
   "metadata": {},
   "outputs": [
    {
     "data": {
      "image/png": "[encoded data removed]",
      "text/plain": [
       "<Figure size 900x540 with 2 Axes>"
      ]
     },
     "metadata": {
      "needs_background": "light"
     },
     "output_type": "display_data"
    }
   ],
   "source": [
    "#### Confusion matrix of the dev_set\n",
    "\n",
    "# Plot normalized confusion matrix\n",
    "plot_confusion_matrix(y_test_3, y_pred_3, classes=class_names, normalize=True, \n",
    "                      title='Normalized confusion matrix dev_set')\n",
    "plt.show()"
   ]
  },
  {
   "cell_type": "markdown",
   "id": "770ea062",
   "metadata": {},
   "source": [
    "### Random Forest"
   ]
  },
  {
   "cell_type": "code",
   "execution_count": 67,
   "id": "75510737",
   "metadata": {},
   "outputs": [],
   "source": [
    "pipe_RF = Pipeline(steps=[('cv',CountVectorizer()),('rf', RandomForestClassifier(n_estimators=20))])"
   ]
  },
  {
   "cell_type": "code",
   "execution_count": 68,
   "id": "b670f399",
   "metadata": {},
   "outputs": [
    {
     "data": {
      "text/plain": [
       "Pipeline(steps=[('cv', CountVectorizer()),\n",
       "                ('rf', RandomForestClassifier(n_estimators=20))])"
      ]
     },
     "execution_count": 68,
     "metadata": {},
     "output_type": "execute_result"
    }
   ],
   "source": [
    "pipe_RF.fit(X_train_3, y_train_3)"
   ]
  },
  {
   "cell_type": "code",
   "execution_count": 69,
   "id": "5580fbf4",
   "metadata": {},
   "outputs": [],
   "source": [
    "y_pred_3 = pipe_RF.predict(X_test_3)"
   ]
  },
  {
   "cell_type": "code",
   "execution_count": 70,
   "id": "e0ae4602",
   "metadata": {},
   "outputs": [
    {
     "name": "stdout",
     "output_type": "stream",
     "text": [
      "Classification report dev_set:\n",
      "               precision    recall  f1-score   support\n",
      "\n",
      "           6       0.21      0.16      0.18        87\n",
      "           8       0.36      0.27      0.31       158\n",
      "           2       0.29      0.30      0.30       170\n",
      "           1       0.33      0.49      0.39       211\n",
      "           4       0.27      0.21      0.24       104\n",
      "           5       0.33      0.36      0.34        97\n",
      "           3       0.15      0.09      0.11        77\n",
      "           7       0.28      0.25      0.27        96\n",
      "\n",
      "    accuracy                           0.30      1000\n",
      "   macro avg       0.28      0.27      0.27      1000\n",
      "weighted avg       0.29      0.30      0.29      1000\n",
      "\n"
     ]
    }
   ],
   "source": [
    "#### Evaluation of the dev_set\n",
    "print(\"Classification report dev_set:\\n\",classification_report(y_test_3, y_pred_3, labels = class_names))"
   ]
  },
  {
   "cell_type": "code",
   "execution_count": 71,
   "id": "6a4ecb93",
   "metadata": {},
   "outputs": [
    {
     "data": {
      "image/png": "[encoded data removed]",
      "text/plain": [
       "<Figure size 900x540 with 2 Axes>"
      ]
     },
     "metadata": {
      "needs_background": "light"
     },
     "output_type": "display_data"
    }
   ],
   "source": [
    "#### Confusion matrix of the dev_set\n",
    "\n",
    "# Plot normalized confusion matrix\n",
    "plot_confusion_matrix(y_test_3, y_pred_3, classes=class_names, normalize=True, \n",
    "                      title='Normalized confusion matrix dev_set')\n",
    "plt.show()"
   ]
  },
  {
   "cell_type": "markdown",
   "id": "8132f1d3",
   "metadata": {},
   "source": [
    "### Linear Support Vector"
   ]
  },
  {
   "cell_type": "code",
   "execution_count": 72,
   "id": "858dd40b",
   "metadata": {},
   "outputs": [],
   "source": [
    "pipe_SVC = Pipeline(steps=[('cv',CountVectorizer()),('svc', LinearSVC(tol=1e-05))])"
   ]
  },
  {
   "cell_type": "code",
   "execution_count": 73,
   "id": "d78aeb17",
   "metadata": {},
   "outputs": [
    {
     "data": {
      "text/plain": [
       "Pipeline(steps=[('cv', CountVectorizer()), ('svc', LinearSVC(tol=1e-05))])"
      ]
     },
     "execution_count": 73,
     "metadata": {},
     "output_type": "execute_result"
    }
   ],
   "source": [
    "pipe_SVC.fit(X_train_3, y_train_3)"
   ]
  },
  {
   "cell_type": "code",
   "execution_count": 74,
   "id": "4608ee90",
   "metadata": {},
   "outputs": [],
   "source": [
    "y_pred_3 = pipe_SVC.predict(X_test_3)"
   ]
  },
  {
   "cell_type": "code",
   "execution_count": 75,
   "id": "cc2fe328",
   "metadata": {},
   "outputs": [
    {
     "name": "stdout",
     "output_type": "stream",
     "text": [
      "Classification report dev_set:\n",
      "               precision    recall  f1-score   support\n",
      "\n",
      "           6       0.29      0.29      0.29        87\n",
      "           8       0.35      0.32      0.33       158\n",
      "           2       0.31      0.33      0.32       170\n",
      "           1       0.37      0.47      0.41       211\n",
      "           4       0.29      0.27      0.28       104\n",
      "           5       0.37      0.39      0.38        97\n",
      "           3       0.20      0.14      0.17        77\n",
      "           7       0.34      0.24      0.28        96\n",
      "\n",
      "    accuracy                           0.33      1000\n",
      "   macro avg       0.31      0.31      0.31      1000\n",
      "weighted avg       0.33      0.33      0.32      1000\n",
      "\n"
     ]
    }
   ],
   "source": [
    "#### Evaluation of the dev_set\n",
    "print(\"Classification report dev_set:\\n\",classification_report(y_test_3, y_pred_3, labels = class_names))"
   ]
  },
  {
   "cell_type": "code",
   "execution_count": 76,
   "id": "131b1693",
   "metadata": {},
   "outputs": [
    {
     "data": {
      "image/png": "[encoded data removed]",
      "text/plain": [
       "<Figure size 900x540 with 2 Axes>"
      ]
     },
     "metadata": {
      "needs_background": "light"
     },
     "output_type": "display_data"
    }
   ],
   "source": [
    "#### Confusion matrix of the dev_set\n",
    "\n",
    "# Plot normalized confusion matrix\n",
    "plot_confusion_matrix(y_test_3, y_pred_3, classes=class_names, normalize=True, \n",
    "                      title='Normalized confusion matrix dev_set')\n",
    "plt.show()"
   ]
  },
  {
   "cell_type": "code",
   "execution_count": null,
   "id": "55464f02",
   "metadata": {},
   "outputs": [],
   "source": []
  }
 ],
 "metadata": {
  "kernelspec": {
   "display_name": "Python 3 (ipykernel)",
   "language": "python",
   "name": "python3"
  },
  "language_info": {
   "codemirror_mode": {
    "name": "ipython",
    "version": 3
   },
   "file_extension": ".py",
   "mimetype": "text/x-python",
   "name": "python",
   "nbconvert_exporter": "python",
   "pygments_lexer": "ipython3",
   "version": "3.8.13"
  }
 },
 "nbformat": 4,
 "nbformat_minor": 5
}
