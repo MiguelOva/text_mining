{
  "cells": [
    {
      "cell_type": "markdown",
      "metadata": {
        "id": "view-in-github",
        "colab_type": "text"
      },
      "source": [
        "<a href=\"https://colab.research.google.com/github/MiguelOva/text_mining/blob/main/Bert_with_Tensorlfow_dev.ipynb\" target=\"_parent\"><img src=\"https://colab.research.google.com/assets/colab-badge.svg\" alt=\"Open In Colab\"/></a>"
      ]
    },
    {
      "cell_type": "code",
      "execution_count": 61,
      "id": "5b66e77b",
      "metadata": {
        "id": "5b66e77b"
      },
      "outputs": [],
      "source": [
        "# Text Mining Project\n",
        "\n",
        "#### Spring 2022\n",
        "#### Opinion Mining Evaluation Forum\n",
        "\n",
        "#### Students m20200246 Pedro Costa & m2019XXXX Ana Bernardes"
      ]
    },
    {
      "cell_type": "code",
      "execution_count": 62,
      "id": "932b25c1",
      "metadata": {
        "id": "932b25c1"
      },
      "outputs": [],
      "source": [
        "### Data import"
      ]
    },
    {
      "cell_type": "code",
      "execution_count": 63,
      "id": "8507ba67",
      "metadata": {
        "id": "8507ba67"
      },
      "outputs": [],
      "source": [
        "# Loading file \n",
        "import pandas as pd\n",
        "#df = pd.read_csv('training_set.txt', delimiter = '\\t')\n",
        "df_dev = pd.read_csv('https://raw.githubusercontent.com/MiguelOva/text_mining/main/dev_set.txt', delimiter = '\\t')\n",
        "df_train = pd.read_csv('https://raw.githubusercontent.com/MiguelOva/text_mining/main/dev_set.txt', delimiter = '\\t')\n",
        "df_test = pd.read_csv('https://raw.githubusercontent.com/MiguelOva/text_mining/main/dev_set.txt', delimiter = '\\t')"
      ]
    },
    {
      "cell_type": "code",
      "source": [
        "def plot_confusion_matrix(y_true, y_pred, classes,\n",
        "                          normalize=False,\n",
        "                          title=None,\n",
        "                          cmap=plt.cm.Blues):\n",
        "    '''\n",
        "    This function prints and plots the confusion matrix.\n",
        "    Normalization can be applied by setting `normalize=True`.\n",
        "    '''\n",
        "    if not title:\n",
        "        if normalize:\n",
        "            title = 'Normalized confusion matrix'\n",
        "        else:\n",
        "            title = 'Confusion matrix, without normalization'\n",
        "\n",
        "    # Compute confusion matrix\n",
        "    cm = confusion_matrix(y_true, y_pred)\n",
        "\n",
        "    if normalize:\n",
        "        cm = cm.astype('float') / cm.sum(axis=1)[:, np.newaxis]\n",
        "\n",
        "    fig, ax = plt.subplots()\n",
        "    \n",
        "    # Set size\n",
        "    fig.set_size_inches(12.5, 7.5)\n",
        "    im = ax.imshow(cm, interpolation='nearest', cmap=cmap)\n",
        "    ax.figure.colorbar(im, ax=ax)\n",
        "    ax.grid(False)\n",
        "    \n",
        "    # We want to show all ticks...\n",
        "    ax.set(xticks=np.arange(cm.shape[1]),\n",
        "           yticks=np.arange(cm.shape[0]),\n",
        "           # ... and label them with the respective list entries\n",
        "           xticklabels=classes, yticklabels=classes,\n",
        "           title=title,\n",
        "           ylabel='True label',\n",
        "           xlabel='Predicted label')\n",
        "\n",
        "    # Rotate the tick labels and set their alignment.\n",
        "    plt.setp(ax.get_xticklabels(), rotation=45, ha=\"right\",\n",
        "             rotation_mode=\"anchor\")\n",
        "\n",
        "    # Loop over data dimensions and create text annotations.\n",
        "    fmt = '.2f' if normalize else 'd'\n",
        "    thresh = cm.max() / 2.\n",
        "    for i in range(cm.shape[0]):\n",
        "        for j in range(cm.shape[1]):\n",
        "            ax.text(j, i, format(cm[i, j], fmt),\n",
        "                    ha=\"center\", va=\"center\",\n",
        "                    color=\"white\" if cm[i, j] > thresh else \"black\")\n",
        "    fig.tight_layout()\n",
        "    return ax"
      ],
      "metadata": {
        "id": "WTk6-UymcOC-"
      },
      "id": "WTk6-UymcOC-",
      "execution_count": 64,
      "outputs": []
    },
    {
      "cell_type": "code",
      "execution_count": 65,
      "id": "493ce16e",
      "metadata": {
        "colab": {
          "base_uri": "https://localhost:8080/"
        },
        "id": "493ce16e",
        "outputId": "bd786af0-69d8-4481-8252-d6e0800331f0"
      },
      "outputs": [
        {
          "output_type": "execute_result",
          "data": {
            "text/plain": [
              "1000"
            ]
          },
          "metadata": {},
          "execution_count": 65
        }
      ],
      "source": [
        "len(df_dev)"
      ]
    },
    {
      "cell_type": "code",
      "execution_count": 66,
      "id": "4a980ed8",
      "metadata": {
        "colab": {
          "base_uri": "https://localhost:8080/",
          "height": 206
        },
        "id": "4a980ed8",
        "outputId": "748b085f-ba3c-4b64-a583-91ab82775ce4"
      },
      "outputs": [
        {
          "output_type": "execute_result",
          "data": {
            "text/plain": [
              "                                            sentence  emotion\n",
              "0             What happens to the gold in our safe ?        4\n",
              "1                         Natural to get cold feet .        8\n",
              "2                           Not very lucky , is he ?        7\n",
              "3  I'm just a little anxious to get up there and ...        2\n",
              "4  Did you think we don't know about your affair ...        1"
            ],
            "text/html": [
              "\n",
              "  <div id=\"df-0374ad3f-b6b2-48f6-87bf-bb61ac650038\">\n",
              "    <div class=\"colab-df-container\">\n",
              "      <div>\n",
              "<style scoped>\n",
              "    .dataframe tbody tr th:only-of-type {\n",
              "        vertical-align: middle;\n",
              "    }\n",
              "\n",
              "    .dataframe tbody tr th {\n",
              "        vertical-align: top;\n",
              "    }\n",
              "\n",
              "    .dataframe thead th {\n",
              "        text-align: right;\n",
              "    }\n",
              "</style>\n",
              "<table border=\"1\" class=\"dataframe\">\n",
              "  <thead>\n",
              "    <tr style=\"text-align: right;\">\n",
              "      <th></th>\n",
              "      <th>sentence</th>\n",
              "      <th>emotion</th>\n",
              "    </tr>\n",
              "  </thead>\n",
              "  <tbody>\n",
              "    <tr>\n",
              "      <th>0</th>\n",
              "      <td>What happens to the gold in our safe ?</td>\n",
              "      <td>4</td>\n",
              "    </tr>\n",
              "    <tr>\n",
              "      <th>1</th>\n",
              "      <td>Natural to get cold feet .</td>\n",
              "      <td>8</td>\n",
              "    </tr>\n",
              "    <tr>\n",
              "      <th>2</th>\n",
              "      <td>Not very lucky , is he ?</td>\n",
              "      <td>7</td>\n",
              "    </tr>\n",
              "    <tr>\n",
              "      <th>3</th>\n",
              "      <td>I'm just a little anxious to get up there and ...</td>\n",
              "      <td>2</td>\n",
              "    </tr>\n",
              "    <tr>\n",
              "      <th>4</th>\n",
              "      <td>Did you think we don't know about your affair ...</td>\n",
              "      <td>1</td>\n",
              "    </tr>\n",
              "  </tbody>\n",
              "</table>\n",
              "</div>\n",
              "      <button class=\"colab-df-convert\" onclick=\"convertToInteractive('df-0374ad3f-b6b2-48f6-87bf-bb61ac650038')\"\n",
              "              title=\"Convert this dataframe to an interactive table.\"\n",
              "              style=\"display:none;\">\n",
              "        \n",
              "  <svg xmlns=\"http://www.w3.org/2000/svg\" height=\"24px\"viewBox=\"0 0 24 24\"\n",
              "       width=\"24px\">\n",
              "    <path d=\"M0 0h24v24H0V0z\" fill=\"none\"/>\n",
              "    <path d=\"M18.56 5.44l.94 2.06.94-2.06 2.06-.94-2.06-.94-.94-2.06-.94 2.06-2.06.94zm-11 1L8.5 8.5l.94-2.06 2.06-.94-2.06-.94L8.5 2.5l-.94 2.06-2.06.94zm10 10l.94 2.06.94-2.06 2.06-.94-2.06-.94-.94-2.06-.94 2.06-2.06.94z\"/><path d=\"M17.41 7.96l-1.37-1.37c-.4-.4-.92-.59-1.43-.59-.52 0-1.04.2-1.43.59L10.3 9.45l-7.72 7.72c-.78.78-.78 2.05 0 2.83L4 21.41c.39.39.9.59 1.41.59.51 0 1.02-.2 1.41-.59l7.78-7.78 2.81-2.81c.8-.78.8-2.07 0-2.86zM5.41 20L4 18.59l7.72-7.72 1.47 1.35L5.41 20z\"/>\n",
              "  </svg>\n",
              "      </button>\n",
              "      \n",
              "  <style>\n",
              "    .colab-df-container {\n",
              "      display:flex;\n",
              "      flex-wrap:wrap;\n",
              "      gap: 12px;\n",
              "    }\n",
              "\n",
              "    .colab-df-convert {\n",
              "      background-color: #E8F0FE;\n",
              "      border: none;\n",
              "      border-radius: 50%;\n",
              "      cursor: pointer;\n",
              "      display: none;\n",
              "      fill: #1967D2;\n",
              "      height: 32px;\n",
              "      padding: 0 0 0 0;\n",
              "      width: 32px;\n",
              "    }\n",
              "\n",
              "    .colab-df-convert:hover {\n",
              "      background-color: #E2EBFA;\n",
              "      box-shadow: 0px 1px 2px rgba(60, 64, 67, 0.3), 0px 1px 3px 1px rgba(60, 64, 67, 0.15);\n",
              "      fill: #174EA6;\n",
              "    }\n",
              "\n",
              "    [theme=dark] .colab-df-convert {\n",
              "      background-color: #3B4455;\n",
              "      fill: #D2E3FC;\n",
              "    }\n",
              "\n",
              "    [theme=dark] .colab-df-convert:hover {\n",
              "      background-color: #434B5C;\n",
              "      box-shadow: 0px 1px 3px 1px rgba(0, 0, 0, 0.15);\n",
              "      filter: drop-shadow(0px 1px 2px rgba(0, 0, 0, 0.3));\n",
              "      fill: #FFFFFF;\n",
              "    }\n",
              "  </style>\n",
              "\n",
              "      <script>\n",
              "        const buttonEl =\n",
              "          document.querySelector('#df-0374ad3f-b6b2-48f6-87bf-bb61ac650038 button.colab-df-convert');\n",
              "        buttonEl.style.display =\n",
              "          google.colab.kernel.accessAllowed ? 'block' : 'none';\n",
              "\n",
              "        async function convertToInteractive(key) {\n",
              "          const element = document.querySelector('#df-0374ad3f-b6b2-48f6-87bf-bb61ac650038');\n",
              "          const dataTable =\n",
              "            await google.colab.kernel.invokeFunction('convertToInteractive',\n",
              "                                                     [key], {});\n",
              "          if (!dataTable) return;\n",
              "\n",
              "          const docLinkHtml = 'Like what you see? Visit the ' +\n",
              "            '<a target=\"_blank\" href=https://colab.research.google.com/notebooks/data_table.ipynb>data table notebook</a>'\n",
              "            + ' to learn more about interactive tables.';\n",
              "          element.innerHTML = '';\n",
              "          dataTable['output_type'] = 'display_data';\n",
              "          await google.colab.output.renderOutput(dataTable, element);\n",
              "          const docLink = document.createElement('div');\n",
              "          docLink.innerHTML = docLinkHtml;\n",
              "          element.appendChild(docLink);\n",
              "        }\n",
              "      </script>\n",
              "    </div>\n",
              "  </div>\n",
              "  "
            ]
          },
          "metadata": {},
          "execution_count": 66
        }
      ],
      "source": [
        "df_dev.head()"
      ]
    },
    {
      "cell_type": "code",
      "execution_count": 67,
      "id": "66b42702",
      "metadata": {
        "id": "66b42702"
      },
      "outputs": [],
      "source": [
        "df_dev = pd.DataFrame(data=df_dev, columns=['sentence', 'emotion'])"
      ]
    },
    {
      "cell_type": "code",
      "execution_count": 68,
      "id": "e79d9129",
      "metadata": {
        "colab": {
          "base_uri": "https://localhost:8080/",
          "height": 172
        },
        "id": "e79d9129",
        "outputId": "2478bd63-9346-4ebd-be98-1dc32497dcf1"
      },
      "outputs": [
        {
          "output_type": "error",
          "ename": "NameError",
          "evalue": "ignored",
          "traceback": [
            "\u001b[0;31m---------------------------------------------------------------------------\u001b[0m",
            "\u001b[0;31mNameError\u001b[0m                                 Traceback (most recent call last)",
            "\u001b[0;32m<ipython-input-68-990fc53b4516>\u001b[0m in \u001b[0;36m<module>\u001b[0;34m()\u001b[0m\n\u001b[0;32m----> 1\u001b[0;31m \u001b[0mddf_devf\u001b[0m\u001b[0;34m[\u001b[0m\u001b[0;36m100\u001b[0m\u001b[0;34m:\u001b[0m\u001b[0;36m400\u001b[0m\u001b[0;34m]\u001b[0m\u001b[0;34m\u001b[0m\u001b[0;34m\u001b[0m\u001b[0m\n\u001b[0m",
            "\u001b[0;31mNameError\u001b[0m: name 'ddf_devf' is not defined"
          ]
        }
      ],
      "source": [
        "ddf_devf[100:400]"
      ]
    },
    {
      "cell_type": "code",
      "execution_count": 69,
      "id": "0f20753c",
      "metadata": {
        "colab": {
          "base_uri": "https://localhost:8080/"
        },
        "id": "0f20753c",
        "outputId": "0b3e9e7c-e3e2-415f-a4da-44792527ab9c"
      },
      "outputs": [
        {
          "output_type": "execute_result",
          "data": {
            "text/plain": [
              "sentence    0\n",
              "emotion     0\n",
              "dtype: int64"
            ]
          },
          "metadata": {},
          "execution_count": 69
        }
      ],
      "source": [
        "# Check for empty cells\n",
        "\n",
        "\"\"\"\"\"\n",
        "Avaliar a necessidade de filtrar sentences vazias\n",
        "\"\"\"\"\"\n",
        "\n",
        "df_dev.isnull().sum()"
      ]
    },
    {
      "cell_type": "code",
      "execution_count": 70,
      "id": "571dd4c7",
      "metadata": {
        "colab": {
          "base_uri": "https://localhost:8080/"
        },
        "id": "571dd4c7",
        "outputId": "7c87a422-411f-4f97-ab4a-cb1ecc0b3c2d"
      },
      "outputs": [
        {
          "output_type": "execute_result",
          "data": {
            "text/plain": [
              "1    211\n",
              "2    170\n",
              "8    158\n",
              "4    104\n",
              "5     97\n",
              "7     96\n",
              "6     87\n",
              "3     77\n",
              "Name: emotion, dtype: int64"
            ]
          },
          "metadata": {},
          "execution_count": 70
        }
      ],
      "source": [
        "# Check emotion frequency\n",
        "df_dev.emotion.value_counts()"
      ]
    },
    {
      "cell_type": "code",
      "execution_count": 71,
      "id": "3e9f9ae8",
      "metadata": {
        "id": "3e9f9ae8"
      },
      "outputs": [],
      "source": [
        "from tqdm import tqdm_notebook as tqdm\n",
        "def label_counter(df, field):\n",
        "    \"\"\"\n",
        "    ???????????\n",
        "    \"\"\"\n",
        "    return df[field].value_counts()"
      ]
    },
    {
      "cell_type": "code",
      "execution_count": 72,
      "id": "8850a373",
      "metadata": {
        "colab": {
          "base_uri": "https://localhost:8080/"
        },
        "id": "8850a373",
        "outputId": "134b3570-6eed-4e4e-97f1-9b1c758859a5"
      },
      "outputs": [
        {
          "output_type": "execute_result",
          "data": {
            "text/plain": [
              "1    211\n",
              "2    170\n",
              "8    158\n",
              "4    104\n",
              "5     97\n",
              "7     96\n",
              "6     87\n",
              "3     77\n",
              "Name: emotion, dtype: int64"
            ]
          },
          "metadata": {},
          "execution_count": 72
        }
      ],
      "source": [
        "label_counter(df_dev, \"emotion\")"
      ]
    },
    {
      "cell_type": "code",
      "execution_count": 73,
      "id": "2b0792a8",
      "metadata": {
        "id": "2b0792a8"
      },
      "outputs": [],
      "source": [
        "# Word Count\n",
        "def word_count(text):\n",
        "    \"\"\"\n",
        "    Function that counts text words\n",
        "    \"\"\"\n",
        "    df_words = \" \".join(text).split()\n",
        "    # Count all words \n",
        "    freq = pd.Series(df_words).value_counts()\n",
        "    return freq"
      ]
    },
    {
      "cell_type": "code",
      "execution_count": 74,
      "id": "07bcd712",
      "metadata": {
        "colab": {
          "base_uri": "https://localhost:8080/"
        },
        "id": "07bcd712",
        "outputId": "78d4414d-1cfd-419c-d74b-9f53103202ac"
      },
      "outputs": [
        {
          "output_type": "execute_result",
          "data": {
            "text/plain": [
              ".           734\n",
              ",           380\n",
              "I           238\n",
              "you         234\n",
              "to          223\n",
              "?           211\n",
              "the         187\n",
              "a           160\n",
              "!           120\n",
              "[PERSON]    101\n",
              "of          101\n",
              "it           99\n",
              "me           76\n",
              "You          75\n",
              "and          75\n",
              "in           72\n",
              "that         71\n",
              "is           67\n",
              "for          61\n",
              "be           56\n",
              "do           53\n",
              "I'm          49\n",
              "this         47\n",
              "with         45\n",
              "not          44\n",
              "dtype: int64"
            ]
          },
          "metadata": {},
          "execution_count": 74
        }
      ],
      "source": [
        "word_count(list(df_dev['sentence']))[:25]"
      ]
    },
    {
      "cell_type": "code",
      "execution_count": 75,
      "id": "8343951c",
      "metadata": {
        "id": "8343951c"
      },
      "outputs": [],
      "source": [
        "#### Preprocessing"
      ]
    },
    {
      "cell_type": "code",
      "execution_count": 76,
      "id": "084efd64",
      "metadata": {
        "colab": {
          "base_uri": "https://localhost:8080/"
        },
        "id": "084efd64",
        "outputId": "0324d288-6ec6-4b4d-bc64-8e7ca3a00c08"
      },
      "outputs": [
        {
          "output_type": "stream",
          "name": "stdout",
          "text": [
            "[nltk_data] Downloading package wordnet to /root/nltk_data...\n",
            "[nltk_data]   Package wordnet is already up-to-date!\n",
            "[nltk_data] Downloading package stopwords to /root/nltk_data...\n",
            "[nltk_data]   Package stopwords is already up-to-date!\n"
          ]
        }
      ],
      "source": [
        "import re\n",
        "import nltk\n",
        "import string\n",
        "from nltk.corpus import stopwords\n",
        "from nltk.stem.wordnet import WordNetLemmatizer\n",
        "from bs4 import BeautifulSoup\n",
        "from tqdm import tqdm_notebook as tqdm\n",
        "from nltk.stem.snowball import SnowballStemmer\n",
        "from nltk.tokenize import word_tokenize\n",
        "from nltk.corpus import wordnet\n",
        "from bs4 import BeautifulSoup\n",
        "\n",
        "nltk.download('wordnet')\n",
        "nltk.download('stopwords')\n",
        "\n",
        "stop = set(stopwords.words('english'))\n",
        "exclude = set(string.punctuation)\n",
        "lemma = WordNetLemmatizer()\n",
        "stem = SnowballStemmer(\"english\")"
      ]
    },
    {
      "cell_type": "code",
      "execution_count": 77,
      "id": "1d5c8611",
      "metadata": {
        "id": "1d5c8611"
      },
      "outputs": [],
      "source": [
        "def clean(text_in, lemmatize, stemmer):\n",
        "    \"\"\"\n",
        "    Preprocessing Function  will consist of   \n",
        "    - make everything lowercased\n",
        "    - removing all symbols that are not letters\n",
        "    - remove stopwords\n",
        "    - replace words with the corresponding lemma\n",
        "\n",
        "    \"\"\"\n",
        "    updates = []\n",
        "    for j in tqdm(range(len(text_in))):\n",
        "        \n",
        "        text = text_in[j]\n",
        "        \n",
        "        #make everything lowercased\n",
        "        text = text.lower()      \n",
        "          \n",
        "        #removing all symbols that are not letters\n",
        "        text = re.sub(\"[^a-zA-Z]\", ' ', text)\n",
        "            \n",
        "        #remove stopwords\n",
        "        text = ' '.join([word for word in text.split() if word not in stop])\n",
        "        \n",
        "        #replace words with the corresponding lemma\n",
        "        text = BeautifulSoup(text).get_text()\n",
        "        \n",
        "        if lemmatize:\n",
        "            text = \" \".join(lemma.lemmatize(word) for word in text.split())\n",
        "        \n",
        "        if stemmer:\n",
        "            text = \" \".join(stem.stemmer(word) for word in text.split())\n",
        "        \n",
        "        updates.append(text)\n",
        "        \n",
        "    return updates"
      ]
    },
    {
      "cell_type": "code",
      "execution_count": 78,
      "id": "37611f41",
      "metadata": {
        "id": "37611f41"
      },
      "outputs": [],
      "source": [
        "def update_df(dataframe, list_updated):\n",
        "    dataframe.update(pd.DataFrame({\"sentence\": list_updated}))"
      ]
    },
    {
      "cell_type": "code",
      "execution_count": 79,
      "id": "7530a776",
      "metadata": {
        "colab": {
          "base_uri": "https://localhost:8080/",
          "height": 104,
          "referenced_widgets": [
            "16e32aa6241e4d62a6b4a7088aba7e59",
            "6ebd816146ef426887715068ae956af9",
            "7d6b32930d5a44edbd5ccaa68f1f61ef",
            "d131bfca4c304f53b45b7ed5680bda0f",
            "7f3b3c6469944d81950caa71b682f659",
            "8ed8602ccad3422da20aecf89149dfd4",
            "285a6091f2374edd87e88de1ef218f76",
            "17320ddc35fa4c0885aa4367cea21080",
            "b3303f905edb4105b58c2fe2671b6896",
            "46ad51114d29479da65a2e9e63b34c59",
            "10178ece28c84f95ab7954910035184d"
          ]
        },
        "id": "7530a776",
        "outputId": "ccc51851-9d2f-4f36-c1e9-24b1bcd7e4b7"
      },
      "outputs": [
        {
          "output_type": "stream",
          "name": "stderr",
          "text": [
            "/usr/local/lib/python3.7/dist-packages/ipykernel_launcher.py:11: TqdmDeprecationWarning: This function will be removed in tqdm==5.0.0\n",
            "Please use `tqdm.notebook.tqdm` instead of `tqdm.tqdm_notebook`\n",
            "  # This is added back by InteractiveShellApp.init_path()\n"
          ]
        },
        {
          "output_type": "display_data",
          "data": {
            "text/plain": [
              "  0%|          | 0/1000 [00:00<?, ?it/s]"
            ],
            "application/vnd.jupyter.widget-view+json": {
              "version_major": 2,
              "version_minor": 0,
              "model_id": "16e32aa6241e4d62a6b4a7088aba7e59"
            }
          },
          "metadata": {}
        }
      ],
      "source": [
        "updates = clean(df_dev[\"sentence\"], lemmatize = True, stemmer = False)"
      ]
    },
    {
      "cell_type": "code",
      "execution_count": 80,
      "id": "83f47e21",
      "metadata": {
        "colab": {
          "base_uri": "https://localhost:8080/",
          "height": 423
        },
        "id": "83f47e21",
        "outputId": "2b01569d-9fe7-4f08-e397-75a7f57f3ba9"
      },
      "outputs": [
        {
          "output_type": "execute_result",
          "data": {
            "text/plain": [
              "                                         sentence  emotion\n",
              "0                               happens gold safe        4\n",
              "1                           natural get cold foot        8\n",
              "2                                           lucky        7\n",
              "3                  little anxious get whoop et as        2\n",
              "4           think know affair government official        1\n",
              "..                                            ...      ...\n",
              "995                                   ask careful        4\n",
              "996                                 like jazz pal        7\n",
              "997                                           put        1\n",
              "998                 ever imagine person spot like        7\n",
              "999  think top gun able tell somebody following u        1\n",
              "\n",
              "[1000 rows x 2 columns]"
            ],
            "text/html": [
              "\n",
              "  <div id=\"df-8b679d33-de56-4bef-a3d1-cd16d97cafec\">\n",
              "    <div class=\"colab-df-container\">\n",
              "      <div>\n",
              "<style scoped>\n",
              "    .dataframe tbody tr th:only-of-type {\n",
              "        vertical-align: middle;\n",
              "    }\n",
              "\n",
              "    .dataframe tbody tr th {\n",
              "        vertical-align: top;\n",
              "    }\n",
              "\n",
              "    .dataframe thead th {\n",
              "        text-align: right;\n",
              "    }\n",
              "</style>\n",
              "<table border=\"1\" class=\"dataframe\">\n",
              "  <thead>\n",
              "    <tr style=\"text-align: right;\">\n",
              "      <th></th>\n",
              "      <th>sentence</th>\n",
              "      <th>emotion</th>\n",
              "    </tr>\n",
              "  </thead>\n",
              "  <tbody>\n",
              "    <tr>\n",
              "      <th>0</th>\n",
              "      <td>happens gold safe</td>\n",
              "      <td>4</td>\n",
              "    </tr>\n",
              "    <tr>\n",
              "      <th>1</th>\n",
              "      <td>natural get cold foot</td>\n",
              "      <td>8</td>\n",
              "    </tr>\n",
              "    <tr>\n",
              "      <th>2</th>\n",
              "      <td>lucky</td>\n",
              "      <td>7</td>\n",
              "    </tr>\n",
              "    <tr>\n",
              "      <th>3</th>\n",
              "      <td>little anxious get whoop et as</td>\n",
              "      <td>2</td>\n",
              "    </tr>\n",
              "    <tr>\n",
              "      <th>4</th>\n",
              "      <td>think know affair government official</td>\n",
              "      <td>1</td>\n",
              "    </tr>\n",
              "    <tr>\n",
              "      <th>...</th>\n",
              "      <td>...</td>\n",
              "      <td>...</td>\n",
              "    </tr>\n",
              "    <tr>\n",
              "      <th>995</th>\n",
              "      <td>ask careful</td>\n",
              "      <td>4</td>\n",
              "    </tr>\n",
              "    <tr>\n",
              "      <th>996</th>\n",
              "      <td>like jazz pal</td>\n",
              "      <td>7</td>\n",
              "    </tr>\n",
              "    <tr>\n",
              "      <th>997</th>\n",
              "      <td>put</td>\n",
              "      <td>1</td>\n",
              "    </tr>\n",
              "    <tr>\n",
              "      <th>998</th>\n",
              "      <td>ever imagine person spot like</td>\n",
              "      <td>7</td>\n",
              "    </tr>\n",
              "    <tr>\n",
              "      <th>999</th>\n",
              "      <td>think top gun able tell somebody following u</td>\n",
              "      <td>1</td>\n",
              "    </tr>\n",
              "  </tbody>\n",
              "</table>\n",
              "<p>1000 rows × 2 columns</p>\n",
              "</div>\n",
              "      <button class=\"colab-df-convert\" onclick=\"convertToInteractive('df-8b679d33-de56-4bef-a3d1-cd16d97cafec')\"\n",
              "              title=\"Convert this dataframe to an interactive table.\"\n",
              "              style=\"display:none;\">\n",
              "        \n",
              "  <svg xmlns=\"http://www.w3.org/2000/svg\" height=\"24px\"viewBox=\"0 0 24 24\"\n",
              "       width=\"24px\">\n",
              "    <path d=\"M0 0h24v24H0V0z\" fill=\"none\"/>\n",
              "    <path d=\"M18.56 5.44l.94 2.06.94-2.06 2.06-.94-2.06-.94-.94-2.06-.94 2.06-2.06.94zm-11 1L8.5 8.5l.94-2.06 2.06-.94-2.06-.94L8.5 2.5l-.94 2.06-2.06.94zm10 10l.94 2.06.94-2.06 2.06-.94-2.06-.94-.94-2.06-.94 2.06-2.06.94z\"/><path d=\"M17.41 7.96l-1.37-1.37c-.4-.4-.92-.59-1.43-.59-.52 0-1.04.2-1.43.59L10.3 9.45l-7.72 7.72c-.78.78-.78 2.05 0 2.83L4 21.41c.39.39.9.59 1.41.59.51 0 1.02-.2 1.41-.59l7.78-7.78 2.81-2.81c.8-.78.8-2.07 0-2.86zM5.41 20L4 18.59l7.72-7.72 1.47 1.35L5.41 20z\"/>\n",
              "  </svg>\n",
              "      </button>\n",
              "      \n",
              "  <style>\n",
              "    .colab-df-container {\n",
              "      display:flex;\n",
              "      flex-wrap:wrap;\n",
              "      gap: 12px;\n",
              "    }\n",
              "\n",
              "    .colab-df-convert {\n",
              "      background-color: #E8F0FE;\n",
              "      border: none;\n",
              "      border-radius: 50%;\n",
              "      cursor: pointer;\n",
              "      display: none;\n",
              "      fill: #1967D2;\n",
              "      height: 32px;\n",
              "      padding: 0 0 0 0;\n",
              "      width: 32px;\n",
              "    }\n",
              "\n",
              "    .colab-df-convert:hover {\n",
              "      background-color: #E2EBFA;\n",
              "      box-shadow: 0px 1px 2px rgba(60, 64, 67, 0.3), 0px 1px 3px 1px rgba(60, 64, 67, 0.15);\n",
              "      fill: #174EA6;\n",
              "    }\n",
              "\n",
              "    [theme=dark] .colab-df-convert {\n",
              "      background-color: #3B4455;\n",
              "      fill: #D2E3FC;\n",
              "    }\n",
              "\n",
              "    [theme=dark] .colab-df-convert:hover {\n",
              "      background-color: #434B5C;\n",
              "      box-shadow: 0px 1px 3px 1px rgba(0, 0, 0, 0.15);\n",
              "      filter: drop-shadow(0px 1px 2px rgba(0, 0, 0, 0.3));\n",
              "      fill: #FFFFFF;\n",
              "    }\n",
              "  </style>\n",
              "\n",
              "      <script>\n",
              "        const buttonEl =\n",
              "          document.querySelector('#df-8b679d33-de56-4bef-a3d1-cd16d97cafec button.colab-df-convert');\n",
              "        buttonEl.style.display =\n",
              "          google.colab.kernel.accessAllowed ? 'block' : 'none';\n",
              "\n",
              "        async function convertToInteractive(key) {\n",
              "          const element = document.querySelector('#df-8b679d33-de56-4bef-a3d1-cd16d97cafec');\n",
              "          const dataTable =\n",
              "            await google.colab.kernel.invokeFunction('convertToInteractive',\n",
              "                                                     [key], {});\n",
              "          if (!dataTable) return;\n",
              "\n",
              "          const docLinkHtml = 'Like what you see? Visit the ' +\n",
              "            '<a target=\"_blank\" href=https://colab.research.google.com/notebooks/data_table.ipynb>data table notebook</a>'\n",
              "            + ' to learn more about interactive tables.';\n",
              "          element.innerHTML = '';\n",
              "          dataTable['output_type'] = 'display_data';\n",
              "          await google.colab.output.renderOutput(dataTable, element);\n",
              "          const docLink = document.createElement('div');\n",
              "          docLink.innerHTML = docLinkHtml;\n",
              "          element.appendChild(docLink);\n",
              "        }\n",
              "      </script>\n",
              "    </div>\n",
              "  </div>\n",
              "  "
            ]
          },
          "metadata": {},
          "execution_count": 80
        }
      ],
      "source": [
        "update_df(df_dev, updates)\n",
        "df_dev"
      ]
    },
    {
      "cell_type": "code",
      "execution_count": 81,
      "id": "8093d419",
      "metadata": {
        "colab": {
          "base_uri": "https://localhost:8080/"
        },
        "id": "8093d419",
        "outputId": "d4ef4cf4-a5d3-4160-e44d-c4be08437cdd",
        "scrolled": false
      },
      "outputs": [
        {
          "output_type": "execute_result",
          "data": {
            "text/plain": [
              "person      113\n",
              "know         43\n",
              "get          38\n",
              "got          36\n",
              "like         35\n",
              "want         35\n",
              "look         31\n",
              "come         27\n",
              "right        25\n",
              "go           24\n",
              "well         24\n",
              "think        22\n",
              "time         22\n",
              "good         21\n",
              "see          21\n",
              "tell         20\n",
              "one          19\n",
              "u            19\n",
              "location     18\n",
              "gonna        18\n",
              "dtype: int64"
            ]
          },
          "metadata": {},
          "execution_count": 81
        }
      ],
      "source": [
        "word_count(df_dev['sentence'])[:20]"
      ]
    },
    {
      "cell_type": "markdown",
      "id": "MtAJJDCOesIJ",
      "metadata": {
        "id": "MtAJJDCOesIJ"
      },
      "source": [
        "# -------------------------------------------------------------------\n",
        "## Bert with Tensorflow"
      ]
    },
    {
      "cell_type": "code",
      "execution_count": 82,
      "id": "jN9CpniJfHx_",
      "metadata": {
        "id": "jN9CpniJfHx_"
      },
      "outputs": [],
      "source": [
        "#!pip install transformers"
      ]
    },
    {
      "cell_type": "code",
      "execution_count": 83,
      "id": "ei2CUo6ce0j1",
      "metadata": {
        "id": "ei2CUo6ce0j1"
      },
      "outputs": [],
      "source": [
        "import pandas as pd\n",
        "import numpy as np\n",
        "from tqdm.auto import tqdm\n",
        "import tensorflow as tf\n",
        "from transformers import BertTokenizer"
      ]
    },
    {
      "cell_type": "code",
      "source": [
        "df_dev"
      ],
      "metadata": {
        "colab": {
          "base_uri": "https://localhost:8080/",
          "height": 423
        },
        "id": "jiU-UYwbSel8",
        "outputId": "f7609089-4148-422b-97e2-43aa7afd4ec0"
      },
      "id": "jiU-UYwbSel8",
      "execution_count": 84,
      "outputs": [
        {
          "output_type": "execute_result",
          "data": {
            "text/plain": [
              "                                         sentence  emotion\n",
              "0                               happens gold safe        4\n",
              "1                           natural get cold foot        8\n",
              "2                                           lucky        7\n",
              "3                  little anxious get whoop et as        2\n",
              "4           think know affair government official        1\n",
              "..                                            ...      ...\n",
              "995                                   ask careful        4\n",
              "996                                 like jazz pal        7\n",
              "997                                           put        1\n",
              "998                 ever imagine person spot like        7\n",
              "999  think top gun able tell somebody following u        1\n",
              "\n",
              "[1000 rows x 2 columns]"
            ],
            "text/html": [
              "\n",
              "  <div id=\"df-b54be6e7-b732-46fc-8872-5f944e85b394\">\n",
              "    <div class=\"colab-df-container\">\n",
              "      <div>\n",
              "<style scoped>\n",
              "    .dataframe tbody tr th:only-of-type {\n",
              "        vertical-align: middle;\n",
              "    }\n",
              "\n",
              "    .dataframe tbody tr th {\n",
              "        vertical-align: top;\n",
              "    }\n",
              "\n",
              "    .dataframe thead th {\n",
              "        text-align: right;\n",
              "    }\n",
              "</style>\n",
              "<table border=\"1\" class=\"dataframe\">\n",
              "  <thead>\n",
              "    <tr style=\"text-align: right;\">\n",
              "      <th></th>\n",
              "      <th>sentence</th>\n",
              "      <th>emotion</th>\n",
              "    </tr>\n",
              "  </thead>\n",
              "  <tbody>\n",
              "    <tr>\n",
              "      <th>0</th>\n",
              "      <td>happens gold safe</td>\n",
              "      <td>4</td>\n",
              "    </tr>\n",
              "    <tr>\n",
              "      <th>1</th>\n",
              "      <td>natural get cold foot</td>\n",
              "      <td>8</td>\n",
              "    </tr>\n",
              "    <tr>\n",
              "      <th>2</th>\n",
              "      <td>lucky</td>\n",
              "      <td>7</td>\n",
              "    </tr>\n",
              "    <tr>\n",
              "      <th>3</th>\n",
              "      <td>little anxious get whoop et as</td>\n",
              "      <td>2</td>\n",
              "    </tr>\n",
              "    <tr>\n",
              "      <th>4</th>\n",
              "      <td>think know affair government official</td>\n",
              "      <td>1</td>\n",
              "    </tr>\n",
              "    <tr>\n",
              "      <th>...</th>\n",
              "      <td>...</td>\n",
              "      <td>...</td>\n",
              "    </tr>\n",
              "    <tr>\n",
              "      <th>995</th>\n",
              "      <td>ask careful</td>\n",
              "      <td>4</td>\n",
              "    </tr>\n",
              "    <tr>\n",
              "      <th>996</th>\n",
              "      <td>like jazz pal</td>\n",
              "      <td>7</td>\n",
              "    </tr>\n",
              "    <tr>\n",
              "      <th>997</th>\n",
              "      <td>put</td>\n",
              "      <td>1</td>\n",
              "    </tr>\n",
              "    <tr>\n",
              "      <th>998</th>\n",
              "      <td>ever imagine person spot like</td>\n",
              "      <td>7</td>\n",
              "    </tr>\n",
              "    <tr>\n",
              "      <th>999</th>\n",
              "      <td>think top gun able tell somebody following u</td>\n",
              "      <td>1</td>\n",
              "    </tr>\n",
              "  </tbody>\n",
              "</table>\n",
              "<p>1000 rows × 2 columns</p>\n",
              "</div>\n",
              "      <button class=\"colab-df-convert\" onclick=\"convertToInteractive('df-b54be6e7-b732-46fc-8872-5f944e85b394')\"\n",
              "              title=\"Convert this dataframe to an interactive table.\"\n",
              "              style=\"display:none;\">\n",
              "        \n",
              "  <svg xmlns=\"http://www.w3.org/2000/svg\" height=\"24px\"viewBox=\"0 0 24 24\"\n",
              "       width=\"24px\">\n",
              "    <path d=\"M0 0h24v24H0V0z\" fill=\"none\"/>\n",
              "    <path d=\"M18.56 5.44l.94 2.06.94-2.06 2.06-.94-2.06-.94-.94-2.06-.94 2.06-2.06.94zm-11 1L8.5 8.5l.94-2.06 2.06-.94-2.06-.94L8.5 2.5l-.94 2.06-2.06.94zm10 10l.94 2.06.94-2.06 2.06-.94-2.06-.94-.94-2.06-.94 2.06-2.06.94z\"/><path d=\"M17.41 7.96l-1.37-1.37c-.4-.4-.92-.59-1.43-.59-.52 0-1.04.2-1.43.59L10.3 9.45l-7.72 7.72c-.78.78-.78 2.05 0 2.83L4 21.41c.39.39.9.59 1.41.59.51 0 1.02-.2 1.41-.59l7.78-7.78 2.81-2.81c.8-.78.8-2.07 0-2.86zM5.41 20L4 18.59l7.72-7.72 1.47 1.35L5.41 20z\"/>\n",
              "  </svg>\n",
              "      </button>\n",
              "      \n",
              "  <style>\n",
              "    .colab-df-container {\n",
              "      display:flex;\n",
              "      flex-wrap:wrap;\n",
              "      gap: 12px;\n",
              "    }\n",
              "\n",
              "    .colab-df-convert {\n",
              "      background-color: #E8F0FE;\n",
              "      border: none;\n",
              "      border-radius: 50%;\n",
              "      cursor: pointer;\n",
              "      display: none;\n",
              "      fill: #1967D2;\n",
              "      height: 32px;\n",
              "      padding: 0 0 0 0;\n",
              "      width: 32px;\n",
              "    }\n",
              "\n",
              "    .colab-df-convert:hover {\n",
              "      background-color: #E2EBFA;\n",
              "      box-shadow: 0px 1px 2px rgba(60, 64, 67, 0.3), 0px 1px 3px 1px rgba(60, 64, 67, 0.15);\n",
              "      fill: #174EA6;\n",
              "    }\n",
              "\n",
              "    [theme=dark] .colab-df-convert {\n",
              "      background-color: #3B4455;\n",
              "      fill: #D2E3FC;\n",
              "    }\n",
              "\n",
              "    [theme=dark] .colab-df-convert:hover {\n",
              "      background-color: #434B5C;\n",
              "      box-shadow: 0px 1px 3px 1px rgba(0, 0, 0, 0.15);\n",
              "      filter: drop-shadow(0px 1px 2px rgba(0, 0, 0, 0.3));\n",
              "      fill: #FFFFFF;\n",
              "    }\n",
              "  </style>\n",
              "\n",
              "      <script>\n",
              "        const buttonEl =\n",
              "          document.querySelector('#df-b54be6e7-b732-46fc-8872-5f944e85b394 button.colab-df-convert');\n",
              "        buttonEl.style.display =\n",
              "          google.colab.kernel.accessAllowed ? 'block' : 'none';\n",
              "\n",
              "        async function convertToInteractive(key) {\n",
              "          const element = document.querySelector('#df-b54be6e7-b732-46fc-8872-5f944e85b394');\n",
              "          const dataTable =\n",
              "            await google.colab.kernel.invokeFunction('convertToInteractive',\n",
              "                                                     [key], {});\n",
              "          if (!dataTable) return;\n",
              "\n",
              "          const docLinkHtml = 'Like what you see? Visit the ' +\n",
              "            '<a target=\"_blank\" href=https://colab.research.google.com/notebooks/data_table.ipynb>data table notebook</a>'\n",
              "            + ' to learn more about interactive tables.';\n",
              "          element.innerHTML = '';\n",
              "          dataTable['output_type'] = 'display_data';\n",
              "          await google.colab.output.renderOutput(dataTable, element);\n",
              "          const docLink = document.createElement('div');\n",
              "          docLink.innerHTML = docLinkHtml;\n",
              "          element.appendChild(docLink);\n",
              "        }\n",
              "      </script>\n",
              "    </div>\n",
              "  </div>\n",
              "  "
            ]
          },
          "metadata": {},
          "execution_count": 84
        }
      ]
    },
    {
      "cell_type": "code",
      "source": [
        "import numpy as np\n",
        "import matplotlib.pyplot as plt\n",
        "plt.style.use('ggplot')\n",
        "\n",
        "\n",
        "num_classes = len(df_dev[\"emotion\"].value_counts())\n",
        "\n",
        "colors = plt.cm.Dark2(np.linspace(0, 1, num_classes))\n",
        "iter_color = iter(colors)\n",
        "\n",
        "df_dev['emotion'].value_counts().plot.barh(title=\"Reviews for each topic (n, %)\", \n",
        "                                                 ylabel=\"Topics\",\n",
        "                                                 color=colors,\n",
        "                                                 figsize=(9,9))\n",
        "\n",
        "for i, v in enumerate(df_dev['emotion'].value_counts()):\n",
        "  c = next(iter_color)\n",
        "  plt.text(v, i,\n",
        "           \" \"+str(v)+\", \"+str(round(v*100/df_dev.shape[0],2))+\"%\", \n",
        "           color=c, \n",
        "           va='center', \n",
        "           fontweight='bold')"
      ],
      "metadata": {
        "colab": {
          "base_uri": "https://localhost:8080/",
          "height": 554
        },
        "id": "wQJQZUTGSeo8",
        "outputId": "98529379-774b-4070-934d-a93593e93068"
      },
      "id": "wQJQZUTGSeo8",
      "execution_count": 85,
      "outputs": [
        {
          "output_type": "display_data",
          "data": {
            "text/plain": [
              "<Figure size 648x648 with 1 Axes>"
            ],
            "image/png": "[encoded data removed]"
          },
          "metadata": {}
        }
      ]
    },
    {
      "cell_type": "code",
      "source": [
        "# map topic descriptions to labels\n",
        "df_dev['Labels'] = df_dev['emotion'].map({1: 0,\n",
        "                                            2: 1,\n",
        "                                            3: 2,\n",
        "                                            4: 3,\n",
        "                                            5: 4,\n",
        "                                            6: 5,\n",
        "                                            7: 6,\n",
        "                                            8: 7})\n",
        "\n",
        "# drop unused column\n",
        "df_dev = df_dev.drop([\"emotion\"], axis=1)\n",
        "\n",
        "df_dev.head()"
      ],
      "metadata": {
        "colab": {
          "base_uri": "https://localhost:8080/",
          "height": 206
        },
        "id": "k89CKMEzSer4",
        "outputId": "c9d68bec-921a-45b9-d01e-343747c7aa0a"
      },
      "id": "k89CKMEzSer4",
      "execution_count": 86,
      "outputs": [
        {
          "output_type": "execute_result",
          "data": {
            "text/plain": [
              "                                sentence  Labels\n",
              "0                      happens gold safe       3\n",
              "1                  natural get cold foot       7\n",
              "2                                  lucky       6\n",
              "3         little anxious get whoop et as       1\n",
              "4  think know affair government official       0"
            ],
            "text/html": [
              "\n",
              "  <div id=\"df-709c1df5-6b9d-4732-9409-ad439d3159c4\">\n",
              "    <div class=\"colab-df-container\">\n",
              "      <div>\n",
              "<style scoped>\n",
              "    .dataframe tbody tr th:only-of-type {\n",
              "        vertical-align: middle;\n",
              "    }\n",
              "\n",
              "    .dataframe tbody tr th {\n",
              "        vertical-align: top;\n",
              "    }\n",
              "\n",
              "    .dataframe thead th {\n",
              "        text-align: right;\n",
              "    }\n",
              "</style>\n",
              "<table border=\"1\" class=\"dataframe\">\n",
              "  <thead>\n",
              "    <tr style=\"text-align: right;\">\n",
              "      <th></th>\n",
              "      <th>sentence</th>\n",
              "      <th>Labels</th>\n",
              "    </tr>\n",
              "  </thead>\n",
              "  <tbody>\n",
              "    <tr>\n",
              "      <th>0</th>\n",
              "      <td>happens gold safe</td>\n",
              "      <td>3</td>\n",
              "    </tr>\n",
              "    <tr>\n",
              "      <th>1</th>\n",
              "      <td>natural get cold foot</td>\n",
              "      <td>7</td>\n",
              "    </tr>\n",
              "    <tr>\n",
              "      <th>2</th>\n",
              "      <td>lucky</td>\n",
              "      <td>6</td>\n",
              "    </tr>\n",
              "    <tr>\n",
              "      <th>3</th>\n",
              "      <td>little anxious get whoop et as</td>\n",
              "      <td>1</td>\n",
              "    </tr>\n",
              "    <tr>\n",
              "      <th>4</th>\n",
              "      <td>think know affair government official</td>\n",
              "      <td>0</td>\n",
              "    </tr>\n",
              "  </tbody>\n",
              "</table>\n",
              "</div>\n",
              "      <button class=\"colab-df-convert\" onclick=\"convertToInteractive('df-709c1df5-6b9d-4732-9409-ad439d3159c4')\"\n",
              "              title=\"Convert this dataframe to an interactive table.\"\n",
              "              style=\"display:none;\">\n",
              "        \n",
              "  <svg xmlns=\"http://www.w3.org/2000/svg\" height=\"24px\"viewBox=\"0 0 24 24\"\n",
              "       width=\"24px\">\n",
              "    <path d=\"M0 0h24v24H0V0z\" fill=\"none\"/>\n",
              "    <path d=\"M18.56 5.44l.94 2.06.94-2.06 2.06-.94-2.06-.94-.94-2.06-.94 2.06-2.06.94zm-11 1L8.5 8.5l.94-2.06 2.06-.94-2.06-.94L8.5 2.5l-.94 2.06-2.06.94zm10 10l.94 2.06.94-2.06 2.06-.94-2.06-.94-.94-2.06-.94 2.06-2.06.94z\"/><path d=\"M17.41 7.96l-1.37-1.37c-.4-.4-.92-.59-1.43-.59-.52 0-1.04.2-1.43.59L10.3 9.45l-7.72 7.72c-.78.78-.78 2.05 0 2.83L4 21.41c.39.39.9.59 1.41.59.51 0 1.02-.2 1.41-.59l7.78-7.78 2.81-2.81c.8-.78.8-2.07 0-2.86zM5.41 20L4 18.59l7.72-7.72 1.47 1.35L5.41 20z\"/>\n",
              "  </svg>\n",
              "      </button>\n",
              "      \n",
              "  <style>\n",
              "    .colab-df-container {\n",
              "      display:flex;\n",
              "      flex-wrap:wrap;\n",
              "      gap: 12px;\n",
              "    }\n",
              "\n",
              "    .colab-df-convert {\n",
              "      background-color: #E8F0FE;\n",
              "      border: none;\n",
              "      border-radius: 50%;\n",
              "      cursor: pointer;\n",
              "      display: none;\n",
              "      fill: #1967D2;\n",
              "      height: 32px;\n",
              "      padding: 0 0 0 0;\n",
              "      width: 32px;\n",
              "    }\n",
              "\n",
              "    .colab-df-convert:hover {\n",
              "      background-color: #E2EBFA;\n",
              "      box-shadow: 0px 1px 2px rgba(60, 64, 67, 0.3), 0px 1px 3px 1px rgba(60, 64, 67, 0.15);\n",
              "      fill: #174EA6;\n",
              "    }\n",
              "\n",
              "    [theme=dark] .colab-df-convert {\n",
              "      background-color: #3B4455;\n",
              "      fill: #D2E3FC;\n",
              "    }\n",
              "\n",
              "    [theme=dark] .colab-df-convert:hover {\n",
              "      background-color: #434B5C;\n",
              "      box-shadow: 0px 1px 3px 1px rgba(0, 0, 0, 0.15);\n",
              "      filter: drop-shadow(0px 1px 2px rgba(0, 0, 0, 0.3));\n",
              "      fill: #FFFFFF;\n",
              "    }\n",
              "  </style>\n",
              "\n",
              "      <script>\n",
              "        const buttonEl =\n",
              "          document.querySelector('#df-709c1df5-6b9d-4732-9409-ad439d3159c4 button.colab-df-convert');\n",
              "        buttonEl.style.display =\n",
              "          google.colab.kernel.accessAllowed ? 'block' : 'none';\n",
              "\n",
              "        async function convertToInteractive(key) {\n",
              "          const element = document.querySelector('#df-709c1df5-6b9d-4732-9409-ad439d3159c4');\n",
              "          const dataTable =\n",
              "            await google.colab.kernel.invokeFunction('convertToInteractive',\n",
              "                                                     [key], {});\n",
              "          if (!dataTable) return;\n",
              "\n",
              "          const docLinkHtml = 'Like what you see? Visit the ' +\n",
              "            '<a target=\"_blank\" href=https://colab.research.google.com/notebooks/data_table.ipynb>data table notebook</a>'\n",
              "            + ' to learn more about interactive tables.';\n",
              "          element.innerHTML = '';\n",
              "          dataTable['output_type'] = 'display_data';\n",
              "          await google.colab.output.renderOutput(dataTable, element);\n",
              "          const docLink = document.createElement('div');\n",
              "          docLink.innerHTML = docLinkHtml;\n",
              "          element.appendChild(docLink);\n",
              "        }\n",
              "      </script>\n",
              "    </div>\n",
              "  </div>\n",
              "  "
            ]
          },
          "metadata": {},
          "execution_count": 86
        }
      ]
    },
    {
      "cell_type": "code",
      "source": [
        "import tensorflow as tf\n",
        "from sklearn.model_selection import train_test_split\n",
        "\n",
        "y = tf.keras.utils.to_categorical(df_dev[\"Labels\"].values, num_classes=num_classes)\n",
        "\n",
        "x_train, x_test, y_train, y_test = train_test_split(df_dev['sentence'], y, test_size=0.25)"
      ],
      "metadata": {
        "id": "eFLlQp6CSeuv"
      },
      "id": "eFLlQp6CSeuv",
      "execution_count": 87,
      "outputs": []
    },
    {
      "cell_type": "code",
      "source": [
        "#for Colab users: \n",
        "#!pip install tensorflow_text\n",
        "#!pip install -U tensorflow-text==2.5\n",
        "\n",
        "\n",
        "#for Colab users: \n",
        "#!pip install tensorflow_hub"
      ],
      "metadata": {
        "id": "uBVLUm7OUzCh"
      },
      "id": "uBVLUm7OUzCh",
      "execution_count": 88,
      "outputs": []
    },
    {
      "cell_type": "code",
      "source": [
        ""
      ],
      "metadata": {
        "id": "eFfRgArlVuEH"
      },
      "id": "eFfRgArlVuEH",
      "execution_count": 88,
      "outputs": []
    },
    {
      "cell_type": "code",
      "source": [
        "import tensorflow_hub as hub\n",
        "import tensorflow_text as text\n",
        "\n",
        "preprocessor = hub.KerasLayer(\"https://tfhub.dev/google/universal-sentence-encoder-cmlm/multilingual-preprocess/2\")\n",
        "encoder = hub.KerasLayer(\"https://tfhub.dev/google/universal-sentence-encoder-cmlm/multilingual-base/1\")\n",
        "\n",
        "\n",
        "def get_embeddings(sentences):\n",
        "  '''return BERT-like embeddings of input text\n",
        "  Args:\n",
        "    - sentences: list of strings\n",
        "  Output:\n",
        "    - BERT-like embeddings: tf.Tensor of shape=(len(sentences), 768)\n",
        "  '''\n",
        "  preprocessed_text = preprocessor(sentences)\n",
        "  return encoder(preprocessed_text)['pooled_output']\n",
        "\n",
        "\n",
        "get_embeddings([\n",
        "    \"happens gold safe\"]\n",
        ")"
      ],
      "metadata": {
        "colab": {
          "base_uri": "https://localhost:8080/"
        },
        "id": "_hkMod68Sexl",
        "outputId": "b0f82c72-056e-4baf-ec02-d8bd7ffb8595"
      },
      "id": "_hkMod68Sexl",
      "execution_count": 89,
      "outputs": [
        {
          "output_type": "execute_result",
          "data": {
            "text/plain": [
              "<tf.Tensor: shape=(1, 768), dtype=float32, numpy=\n",
              "array([[ 1.46681860e-01, -3.36151779e-01,  3.57096195e-01,\n",
              "        -7.25558877e-01, -3.04658026e-01, -1.71349887e-02,\n",
              "        -1.85808599e-01, -8.36467624e-01,  6.08394668e-02,\n",
              "        -8.97232831e-01, -2.52782732e-01, -3.09667379e-01,\n",
              "         3.86174908e-03,  1.08122770e-02, -5.35260081e-01,\n",
              "        -4.45027530e-01, -2.12689072e-01, -9.03081968e-02,\n",
              "         4.73602712e-01, -4.58505243e-01, -4.45035130e-01,\n",
              "         1.36959389e-01,  4.71701398e-02,  2.39395425e-01,\n",
              "        -4.06448424e-01,  9.20297131e-02, -4.73015487e-01,\n",
              "        -4.16619390e-01, -9.08360705e-02, -7.80843914e-01,\n",
              "         2.74880230e-01, -3.85270149e-01, -6.97202325e-01,\n",
              "        -4.74027246e-01, -3.65972579e-01,  3.59871119e-01,\n",
              "        -1.24268964e-01,  2.52412021e-01, -1.83335453e-01,\n",
              "        -8.12139884e-02, -5.09255290e-01, -1.52975336e-01,\n",
              "        -7.24549353e-01,  7.58052230e-01,  1.48247316e-01,\n",
              "         5.29089272e-02, -1.53988317e-01, -4.67252076e-01,\n",
              "         4.89652246e-01,  2.36177951e-01,  4.40213159e-02,\n",
              "         8.82119298e-01,  5.33466227e-02,  2.28857994e-03,\n",
              "         2.58284450e-01,  2.19056845e-01,  1.81286573e-01,\n",
              "        -1.42810553e-01, -2.43744180e-01, -4.42204773e-01,\n",
              "        -7.72913933e-01, -6.51480854e-01, -2.30664536e-01,\n",
              "        -8.51455867e-01, -2.50358492e-01, -2.51524270e-01,\n",
              "         1.39312297e-01, -4.29492086e-01, -1.15900412e-01,\n",
              "        -1.33436248e-01, -3.82087708e-01, -6.88657582e-01,\n",
              "        -8.86984915e-02, -4.50888157e-01, -2.63127327e-01,\n",
              "        -3.58223975e-01,  2.34856293e-01, -4.42569643e-01,\n",
              "        -6.90027550e-02,  1.37310311e-01,  2.68504262e-01,\n",
              "         3.86716151e+00, -4.28601831e-01, -3.60234492e-02,\n",
              "         4.78924453e-01,  1.08522475e-01, -8.95654112e-02,\n",
              "        -6.19213805e-02,  4.49546248e-01,  1.38823718e-01,\n",
              "         4.29328918e-01,  5.16276240e-01, -4.94751940e-03,\n",
              "        -7.20765889e-01,  2.40143701e-01, -4.66319174e-01,\n",
              "         2.49274727e-02,  7.36089706e-01, -2.20149040e-01,\n",
              "        -4.26473916e-01,  2.80812293e-01, -3.06039397e-02,\n",
              "        -2.59293675e-01, -3.63056839e-01, -4.92745876e-01,\n",
              "        -3.35581720e-01, -5.73670745e-01, -3.46845090e-01,\n",
              "         2.74364620e-01,  3.54918726e-02,  4.08469498e-01,\n",
              "        -9.91784632e-02, -1.11989021e-01, -1.17680386e-01,\n",
              "         8.29637065e-05, -7.73916006e-01, -8.30007732e-01,\n",
              "        -4.47965533e-01, -1.22474454e-01,  1.03824183e-01,\n",
              "        -3.02902460e-01, -2.91565835e-01,  7.47682393e-01,\n",
              "        -2.30362582e+00, -8.99038166e-02,  6.57045603e-01,\n",
              "        -2.06395194e-01, -2.17138335e-01, -4.17935029e-02,\n",
              "        -2.56490856e-01, -5.10761738e-02, -9.75622088e-02,\n",
              "        -2.55631685e-01, -3.03752273e-01, -5.43145299e-01,\n",
              "        -3.86639893e-01, -3.03933352e-01, -4.68862623e-01,\n",
              "        -8.67041387e-03, -5.73984563e-01,  2.04707950e-01,\n",
              "         5.46271503e-01,  1.43478408e-01,  4.92463917e-01,\n",
              "        -6.25704646e-01,  3.16437066e-01, -5.14306486e-01,\n",
              "        -5.83147593e-02,  1.16802350e-01, -5.79834580e-01,\n",
              "        -7.39498377e-01,  1.47272125e-01, -7.57436752e-02,\n",
              "        -8.05993557e-01,  1.48235321e-01, -4.83466499e-02,\n",
              "         1.39366984e-01,  2.04865173e-01, -4.68704402e-01,\n",
              "        -3.50045294e-01, -4.25044388e-01, -2.44427174e-01,\n",
              "        -4.27196212e-02, -3.88454676e-01, -3.30912769e-01,\n",
              "        -4.98407364e-01,  2.23813534e-01, -1.75599605e-01,\n",
              "         7.53211826e-02, -1.80420727e-01, -4.31317180e-01,\n",
              "        -1.15840532e-01,  9.91822705e-02, -2.90780719e-02,\n",
              "         6.31245971e-01,  5.73573947e-01, -5.46663642e-01,\n",
              "        -7.28372157e-01,  9.82329845e-02,  1.43393740e-01,\n",
              "        -1.13645218e-01,  5.32751203e-01,  7.59952590e-02,\n",
              "         1.23588696e-01, -1.43285349e-01,  2.16176152e-01,\n",
              "        -4.26215887e-01, -4.18166816e-01, -5.94382763e-01,\n",
              "        -3.78556430e-01, -2.79947937e-01, -2.02893659e-01,\n",
              "        -1.32568870e-02, -1.77471250e-01, -8.78516793e-01,\n",
              "         1.08335033e-01, -1.50637984e-01, -6.34857595e-01,\n",
              "        -2.86898702e-01, -1.76719218e-01, -3.32502834e-02,\n",
              "         1.35813519e-01,  2.18629986e-01, -7.80397296e-01,\n",
              "        -9.49494094e-02,  5.13512373e-01,  2.89347023e-01,\n",
              "        -6.85111642e-01, -5.46346083e-02, -2.58555412e-01,\n",
              "        -3.79859239e-01, -7.24456981e-02,  4.32343096e-01,\n",
              "        -2.50692606e-01, -4.73622866e-02, -5.82614362e-01,\n",
              "        -6.79221988e-01, -4.98397369e-03, -6.11897632e-02,\n",
              "         2.11012930e-01,  8.01639780e-02, -2.00179577e-01,\n",
              "        -3.73503745e-01,  9.63360518e-02, -4.15835917e-01,\n",
              "        -6.26042724e-01, -3.67011368e-01,  9.69507098e-02,\n",
              "         3.02790403e-02,  6.95834935e-01, -6.54464364e-01,\n",
              "         4.51229393e-01, -3.37052822e-01, -2.75050253e-01,\n",
              "         2.32699484e-01,  1.90125942e+00,  1.46479338e-01,\n",
              "        -8.61094952e-01, -1.70320705e-01, -4.08386797e-01,\n",
              "        -8.07977855e-01, -4.98291016e-01,  1.40233487e-01,\n",
              "        -2.16922671e-01, -4.86380011e-01,  4.29495461e-02,\n",
              "         2.92133152e-01,  3.78852457e-01, -2.77114868e-01,\n",
              "         5.27006149e-01, -2.03295320e-01, -5.92024863e-01,\n",
              "        -9.04437751e-02, -9.81143862e-02, -7.90136576e-01,\n",
              "        -6.22337222e-01, -3.43957424e-01, -2.19775230e-01,\n",
              "        -8.82769823e-02, -1.50932252e-01, -7.17218295e-02,\n",
              "         4.88086119e-02,  9.28028286e-01,  1.27133578e-01,\n",
              "        -1.99603647e-01,  2.09936813e-01, -2.15858388e+00,\n",
              "        -1.06951833e-01, -6.59779668e-01, -4.08866704e-01,\n",
              "         3.01638488e-02,  7.18860626e-02,  9.39618982e-03,\n",
              "         5.41943491e-01,  3.70182544e-01,  5.32373264e-02,\n",
              "        -3.42769504e-01, -1.16116084e-01, -2.61076629e-01,\n",
              "         5.23820519e-03,  6.31626487e-01, -4.38155606e-02,\n",
              "        -1.51143861e+00, -3.99578035e-01, -9.02192742e-02,\n",
              "        -1.29565122e-02, -3.17464888e-01, -3.49171311e-01,\n",
              "         2.08167225e-01,  2.35383794e-01, -1.76462328e+00,\n",
              "         1.45154119e-01, -4.49836180e-02, -1.95833981e-01,\n",
              "        -6.85350358e-01, -7.16777205e-01, -1.09571002e-01,\n",
              "        -3.40020657e-02, -1.29745752e-01,  2.48429328e-01,\n",
              "        -4.07919019e-01, -1.85258940e-01, -4.57354009e-01,\n",
              "        -2.98254136e-02,  1.33293867e-02, -1.73940673e-01,\n",
              "        -8.13788414e-01, -1.82689786e-01, -9.55993161e-02,\n",
              "         7.82177523e-02, -7.31833130e-02, -5.98867297e-01,\n",
              "        -1.41344905e-01, -6.89295411e-01, -5.65718830e-01,\n",
              "         9.32953060e-02, -3.88446152e-01, -1.58181474e-01,\n",
              "        -1.60956234e-01, -2.06957191e-01, -7.87239671e-01,\n",
              "        -4.99155611e-01,  9.64969844e-02, -9.07441795e-01,\n",
              "         5.11330850e-02, -4.48481813e-02,  1.76829174e-01,\n",
              "        -7.48988986e-01,  7.74424076e-02, -1.18597746e-02,\n",
              "         3.45468819e-01, -6.81901723e-02, -8.91840607e-02,\n",
              "         1.58530980e-01,  2.65946567e-01,  2.88458496e-01,\n",
              "        -1.36860400e-01, -4.40181494e-01, -8.28224570e-02,\n",
              "        -2.16968775e-01, -6.25420094e-01, -5.91720454e-02,\n",
              "        -1.04224420e+00, -5.74875236e-01, -1.86445061e-02,\n",
              "        -8.54473710e-01, -5.90359688e-01,  8.64469707e-01,\n",
              "        -1.27063826e-01,  3.12931597e-01, -4.34974194e-01,\n",
              "        -1.36490017e-01, -4.14924324e-01, -1.29997537e-01,\n",
              "         4.21661854e-01,  2.82638013e-01, -1.51033670e-01,\n",
              "         1.41598493e-01,  2.74112523e-01, -3.31309646e-01,\n",
              "        -2.35921945e-02, -2.42012329e-02, -1.46394241e+00,\n",
              "         6.90283179e-02,  2.54793167e-01,  8.16834718e-02,\n",
              "         6.57490134e-01, -5.27640760e-01, -5.44900782e-02,\n",
              "         5.83522320e-01, -2.55534559e-01, -2.09853977e-01,\n",
              "        -2.28004649e-01, -6.31992340e-01, -5.35214432e-02,\n",
              "         5.71310520e-05, -8.11477840e-01,  6.19387603e-04,\n",
              "        -3.78761470e-01,  1.85510114e-01, -5.26790842e-02,\n",
              "         4.74064127e-02,  6.50713593e-02,  5.49767241e-02,\n",
              "        -2.33769231e-02,  2.56206572e-01, -1.38260275e-01,\n",
              "        -2.99784780e-01,  2.81503350e-01,  1.95970967e-01,\n",
              "        -2.93668449e-01, -1.98420510e-01, -2.07279380e-02,\n",
              "        -1.68675736e-01, -3.71204346e-01, -2.83507118e-03,\n",
              "        -7.93216377e-02, -9.81081873e-02, -4.49992985e-01,\n",
              "        -1.06031552e-01, -7.81919599e-01, -5.09477794e-01,\n",
              "        -6.09932899e-01, -3.80468965e-01, -1.38317615e-01,\n",
              "         3.07494313e-01, -3.70048910e-01, -3.45063984e-01,\n",
              "        -1.24095403e-01, -1.62476927e-01, -9.08638835e-01,\n",
              "         1.46607593e-01,  1.89768106e-01, -5.96230865e-01,\n",
              "        -1.94467112e-01,  2.77500391e-01,  1.09191346e+00,\n",
              "         2.74610758e-01, -3.85521084e-01, -7.19466567e-01,\n",
              "         1.65311515e-01, -1.36386007e-01, -4.85013574e-01,\n",
              "        -2.72182643e-01, -8.23408484e-01,  7.11354008e-03,\n",
              "        -1.89413667e-01, -8.75912845e-01,  2.22853571e-01,\n",
              "         2.91143239e-01,  3.52116734e-01, -1.16784930e-01,\n",
              "        -9.44064856e-02, -2.10339785e-01, -2.70146894e+00,\n",
              "         5.75803936e-01, -2.49610245e-02, -1.93245932e-01,\n",
              "        -1.45740911e-01, -7.74585426e-01, -3.48566324e-01,\n",
              "         1.05312037e+00,  1.98902816e-01,  6.94890842e-02,\n",
              "         2.79892743e-01, -5.77806115e-01, -2.88212627e-01,\n",
              "         4.28599060e-01,  3.43254030e-01, -4.32254979e-03,\n",
              "        -4.80420887e-01, -2.62330979e-01, -2.21758485e-01,\n",
              "        -1.65926069e-01, -1.00616825e+00, -5.53075671e-02,\n",
              "         8.57688952e-03, -1.77258372e-01,  2.38755018e-01,\n",
              "         3.76369089e-01, -4.65177149e-01,  1.05376597e-02,\n",
              "        -8.13999057e-01, -1.19120833e-02, -1.79727793e-01,\n",
              "        -4.34577286e-01, -4.95799214e-01, -5.99907041e-01,\n",
              "        -8.13089758e-02, -2.33966589e-01, -4.17423338e-01,\n",
              "        -6.52026236e-01,  6.14410758e-01, -1.05404176e-01,\n",
              "         3.74601036e-01, -2.21442536e-01, -3.29939008e-01,\n",
              "        -2.58297563e-01,  4.17437315e-01,  1.33606002e-01,\n",
              "        -1.21886179e-01, -5.52707314e-02,  1.64718390e-01,\n",
              "        -2.29445383e-01,  9.07457024e-02, -2.22886279e-01,\n",
              "        -1.24860549e+00,  2.16551535e-02, -6.79098889e-02,\n",
              "         9.47812736e-01,  5.05329490e-01, -3.10338497e-01,\n",
              "         4.81372267e-01,  2.52677530e-01, -4.56715286e-01,\n",
              "        -5.40679470e-02, -8.62582326e-02, -4.33007479e-01,\n",
              "         9.51601714e-02, -2.78026640e-01,  4.10301268e-01,\n",
              "        -2.41441578e-01, -8.87989998e-01, -5.81581771e-01,\n",
              "         3.41275752e-01,  4.43276465e-01,  1.84861407e-01,\n",
              "         6.55804098e-01,  9.29056406e-02, -4.15553227e-02,\n",
              "         1.65773109e-01, -1.43896937e-01, -5.35981543e-02,\n",
              "        -2.03540519e-01, -2.57910371e-01, -7.70835340e-01,\n",
              "        -4.39252526e-01, -1.30101919e-01, -2.81080961e-01,\n",
              "        -6.47263944e-01, -4.29284662e-01,  2.02749580e-01,\n",
              "         1.45114705e-01, -4.16845500e-01, -4.86537784e-01,\n",
              "        -5.07935405e-01, -2.07070395e-01,  2.80595720e-01,\n",
              "        -1.22495674e-01,  2.40302634e+00,  5.58076739e-01,\n",
              "        -9.75810289e-02, -7.20475167e-02, -6.70897067e-02,\n",
              "         5.25119960e-01, -2.90559202e-01,  1.93757176e-01,\n",
              "        -2.85545528e-01, -1.11587450e-01,  2.46839523e-01,\n",
              "        -4.28677142e-01,  1.71348542e-01, -2.73177564e-01,\n",
              "        -2.98300594e-01, -3.40182930e-02, -3.41626942e-01,\n",
              "         2.80136108e-01, -2.51335442e-01,  2.55180210e-01,\n",
              "        -4.75272119e-01, -6.64860616e-03,  7.20334873e-02,\n",
              "        -1.45606905e-01, -4.18410301e-01,  3.34786475e-01,\n",
              "         2.05372408e-01, -5.26159048e-01,  2.62350976e-01,\n",
              "         8.34534690e-02, -6.28869757e-02,  1.07973650e-01,\n",
              "        -4.15301234e-01,  4.94470775e-01,  1.03241347e-01,\n",
              "         5.82964778e-01, -6.74255610e-01,  7.31073558e-01,\n",
              "         9.78608504e-02, -9.14087147e-02, -1.98166877e-01,\n",
              "         2.03086898e-01, -4.58441973e-01,  5.03267869e-02,\n",
              "         8.12359974e-02,  3.76068443e-01, -1.70521468e-01,\n",
              "        -3.78383011e-01,  2.73160227e-02,  1.60021275e-01,\n",
              "        -1.14368223e-01, -4.63691130e-02,  2.02320099e-01,\n",
              "         2.78183967e-01,  1.87408164e-01,  2.16550380e-01,\n",
              "        -4.90631878e-01, -4.02816951e-01, -5.11674285e-01,\n",
              "        -3.42102528e-01, -3.30850065e-01,  7.83813596e-01,\n",
              "         9.56913829e-01, -3.39941084e-02, -4.08576488e-01,\n",
              "         1.61934085e-02,  3.08785826e-01, -1.14489272e-01,\n",
              "        -6.38502181e-01, -1.51923701e-01, -2.85096645e-01,\n",
              "        -1.82897657e-01, -3.85709792e-01,  1.04210734e+00,\n",
              "         1.47124201e-01, -1.75556391e-01, -2.61990875e-01,\n",
              "        -2.49529127e-02,  2.85582453e-01,  2.16248542e-01,\n",
              "        -1.84826888e-02,  1.83906093e-01, -7.79206634e-01,\n",
              "        -3.57231796e-01, -1.68447524e-01, -5.08340836e-01,\n",
              "        -7.88378835e-01, -4.52702701e-01, -3.22437614e-01,\n",
              "        -4.37898248e-01,  5.06456852e-01, -4.05338466e-01,\n",
              "        -1.03735842e-01, -4.55951579e-02, -2.30500102e-01,\n",
              "        -4.79425997e-01,  1.50288090e-01,  7.21103325e-02,\n",
              "         6.29077107e-03,  7.86232576e-02, -3.22685003e-01,\n",
              "        -2.44452998e-01, -2.13305920e-01,  1.97098941e-01,\n",
              "        -4.50205714e-01, -4.90605235e-02,  7.97624439e-02,\n",
              "        -5.63099623e-01, -5.35316586e-01, -5.07175386e-01,\n",
              "        -9.44638103e-02, -9.97293472e-01, -1.16151655e+00,\n",
              "         3.87189001e-01, -3.09060425e-01, -4.01161432e-01,\n",
              "         1.69940591e-01,  3.43384296e-01, -3.50018591e-01,\n",
              "        -1.35922238e-01, -5.62208533e-01,  2.89190620e-01,\n",
              "        -4.23387676e-01, -1.06367826e-01,  1.39656976e-01,\n",
              "         1.26422822e-01, -1.83333278e-01, -3.38651806e-01,\n",
              "        -5.25971763e-02, -5.39931417e-01, -2.60295302e-01,\n",
              "         7.29048848e-02, -1.30111858e-01,  1.47100314e-01,\n",
              "        -6.71696290e-02,  1.08307160e-01,  9.16054428e-01,\n",
              "         1.34109095e-01, -5.97830892e-01,  2.53826380e+00,\n",
              "         1.11608826e-01,  2.10306589e-02, -1.75133914e-01,\n",
              "         3.49625945e-02,  5.49591295e-02,  2.58440316e-01,\n",
              "        -1.36758804e-01, -5.69389351e-02, -9.58927646e-02,\n",
              "        -1.89844608e-01, -1.27457559e-01,  2.05612376e-01,\n",
              "         1.83079004e-01, -2.49596506e-01,  4.94985580e-01,\n",
              "        -8.21124539e-02,  4.09008339e-02, -7.79946819e-02,\n",
              "        -7.39353538e-01, -5.76316178e-01,  1.36744827e-01,\n",
              "        -7.60786355e-01, -4.50950623e-01, -3.16165149e-01,\n",
              "        -5.77258646e-01, -1.27483964e+00, -6.48463130e-01,\n",
              "        -5.42410731e-01,  1.16025485e-01, -3.13301682e-01,\n",
              "        -4.91130918e-01,  5.19470945e-02,  2.36543506e-01,\n",
              "        -2.33499613e-02, -6.14530444e-02, -5.88111520e-01,\n",
              "        -2.07971618e-01, -1.05479264e+00,  7.70869553e-01,\n",
              "        -5.49910486e-01, -8.00343633e-01, -3.31977695e-01,\n",
              "        -3.93309295e-01, -7.09979534e-01,  6.42189145e-01,\n",
              "        -5.77656865e-01,  6.43239394e-02, -6.56806707e-01,\n",
              "         2.87999809e-01,  8.30663323e-01,  1.47032812e-01,\n",
              "        -4.09694284e-01, -2.27395728e-01, -4.07618433e-01,\n",
              "        -6.50454313e-02, -1.48703605e-01,  3.39359969e-01,\n",
              "        -4.04980004e-01, -3.85906875e-01, -1.22624114e-01,\n",
              "         3.83250415e-01, -2.65711337e-01, -2.71662865e-02,\n",
              "         3.85633819e-02, -6.15128160e-01, -5.53170085e-01,\n",
              "        -8.68577976e-03, -7.15207577e-01, -1.40085788e-02,\n",
              "        -6.43362999e-01, -9.85448509e-02, -5.15687644e-01,\n",
              "        -4.40153964e-02, -3.80598217e-01, -1.00126885e-01,\n",
              "         1.01185821e-01,  5.59595414e-02, -3.65184784e-01,\n",
              "        -4.77524698e-01, -1.06773041e-01,  3.48945498e-01,\n",
              "        -2.79873967e-01,  2.14960724e-01,  3.80402198e-03,\n",
              "         3.43813628e-01, -1.08520035e-02, -4.47974980e-01,\n",
              "         1.11740971e+00, -1.24675609e-01,  1.48841545e-01,\n",
              "        -6.67806417e-02, -1.46184832e-01, -7.84164608e-01,\n",
              "        -1.21470429e-01, -9.49706063e-02, -1.08215056e-01,\n",
              "         2.94244647e-01, -3.13480645e-01, -1.50558082e-02]], dtype=float32)>"
            ]
          },
          "metadata": {},
          "execution_count": 89
        }
      ]
    },
    {
      "cell_type": "code",
      "source": [
        "i = tf.keras.layers.Input(shape=(), dtype=tf.string, name='text')\n",
        "x = preprocessor(i)\n",
        "x = encoder(x)\n",
        "x = tf.keras.layers.Dropout(0.2, name=\"dropout\")(x['pooled_output'])\n",
        "x = tf.keras.layers.Dense(num_classes, activation='softmax', name=\"output\")(x)\n",
        "\n",
        "model = tf.keras.Model(i, x)"
      ],
      "metadata": {
        "id": "BIRZuEKESe2o"
      },
      "id": "BIRZuEKESe2o",
      "execution_count": 90,
      "outputs": []
    },
    {
      "cell_type": "code",
      "source": [
        "n_epochs = 20\n",
        "\n",
        "METRICS = [\n",
        "      tf.keras.metrics.CategoricalAccuracy(name=\"accuracy\")\n",
        "]\n",
        "\n",
        "earlystop_callback = tf.keras.callbacks.EarlyStopping(monitor = \"val_loss\", \n",
        "                                                      patience = 3,\n",
        "                                                      restore_best_weights = True)\n",
        "\n",
        "model.compile(optimizer = \"adam\",\n",
        "              loss = \"categorical_crossentropy\",\n",
        "              metrics = METRICS)\n",
        "\n",
        "model_fit = model.fit(x_train, \n",
        "                      y_train, \n",
        "                      epochs = n_epochs,\n",
        "                      validation_data = (x_test, y_test),\n",
        "                      callbacks = [earlystop_callback])"
      ],
      "metadata": {
        "colab": {
          "base_uri": "https://localhost:8080/"
        },
        "id": "7Qx7wZ1MSe5c",
        "outputId": "73d1b11a-72df-45cf-a9c2-8dc49dce0e17"
      },
      "id": "7Qx7wZ1MSe5c",
      "execution_count": 91,
      "outputs": [
        {
          "output_type": "stream",
          "name": "stdout",
          "text": [
            "Epoch 1/20\n",
            "24/24 [==============================] - 24s 497ms/step - loss: 2.1641 - accuracy: 0.1613 - val_loss: 2.0028 - val_accuracy: 0.2320\n",
            "Epoch 2/20\n",
            "24/24 [==============================] - 11s 478ms/step - loss: 2.0547 - accuracy: 0.1800 - val_loss: 1.9675 - val_accuracy: 0.2360\n",
            "Epoch 3/20\n",
            "24/24 [==============================] - 10s 435ms/step - loss: 1.9866 - accuracy: 0.2360 - val_loss: 1.9282 - val_accuracy: 0.2920\n",
            "Epoch 4/20\n",
            "24/24 [==============================] - 10s 429ms/step - loss: 1.9534 - accuracy: 0.2547 - val_loss: 1.9106 - val_accuracy: 0.2840\n",
            "Epoch 5/20\n",
            "24/24 [==============================] - 10s 430ms/step - loss: 1.8977 - accuracy: 0.2733 - val_loss: 1.9223 - val_accuracy: 0.2640\n",
            "Epoch 6/20\n",
            "24/24 [==============================] - 10s 428ms/step - loss: 1.8465 - accuracy: 0.3093 - val_loss: 1.8851 - val_accuracy: 0.2560\n",
            "Epoch 7/20\n",
            "24/24 [==============================] - 10s 433ms/step - loss: 1.7868 - accuracy: 0.3280 - val_loss: 1.8766 - val_accuracy: 0.2760\n",
            "Epoch 8/20\n",
            "24/24 [==============================] - 10s 432ms/step - loss: 1.7745 - accuracy: 0.3187 - val_loss: 1.8842 - val_accuracy: 0.3040\n",
            "Epoch 9/20\n",
            "24/24 [==============================] - 10s 437ms/step - loss: 1.7312 - accuracy: 0.3680 - val_loss: 1.8961 - val_accuracy: 0.2560\n",
            "Epoch 10/20\n",
            "24/24 [==============================] - 11s 446ms/step - loss: 1.6773 - accuracy: 0.3773 - val_loss: 1.8576 - val_accuracy: 0.2800\n",
            "Epoch 11/20\n",
            "24/24 [==============================] - 10s 434ms/step - loss: 1.6783 - accuracy: 0.3800 - val_loss: 1.8359 - val_accuracy: 0.2920\n",
            "Epoch 12/20\n",
            "24/24 [==============================] - 10s 433ms/step - loss: 1.6567 - accuracy: 0.3840 - val_loss: 1.8298 - val_accuracy: 0.2880\n",
            "Epoch 13/20\n",
            "24/24 [==============================] - 10s 431ms/step - loss: 1.6320 - accuracy: 0.4200 - val_loss: 1.8230 - val_accuracy: 0.2760\n",
            "Epoch 14/20\n",
            "24/24 [==============================] - 10s 441ms/step - loss: 1.6123 - accuracy: 0.4160 - val_loss: 1.8547 - val_accuracy: 0.2960\n",
            "Epoch 15/20\n",
            "24/24 [==============================] - 12s 516ms/step - loss: 1.5859 - accuracy: 0.4547 - val_loss: 1.8820 - val_accuracy: 0.2640\n",
            "Epoch 16/20\n",
            "24/24 [==============================] - 10s 434ms/step - loss: 1.5540 - accuracy: 0.4720 - val_loss: 1.8101 - val_accuracy: 0.3000\n",
            "Epoch 17/20\n",
            "24/24 [==============================] - 10s 435ms/step - loss: 1.5379 - accuracy: 0.4467 - val_loss: 1.8239 - val_accuracy: 0.3240\n",
            "Epoch 18/20\n",
            "24/24 [==============================] - 10s 435ms/step - loss: 1.5199 - accuracy: 0.4707 - val_loss: 1.8095 - val_accuracy: 0.3000\n",
            "Epoch 19/20\n",
            "24/24 [==============================] - 10s 432ms/step - loss: 1.5019 - accuracy: 0.4680 - val_loss: 1.8502 - val_accuracy: 0.2840\n",
            "Epoch 20/20\n",
            "24/24 [==============================] - 10s 434ms/step - loss: 1.4684 - accuracy: 0.4960 - val_loss: 1.8151 - val_accuracy: 0.3120\n"
          ]
        }
      ]
    },
    {
      "cell_type": "code",
      "source": [
        "# plot history\n",
        "import matplotlib.pyplot as pyplot \n",
        "pyplot.plot(model_fit.history['loss'], label='train')\n",
        "pyplot.plot(model_fit.history['val_loss'], label='test')\n",
        "pyplot.legend()\n",
        "pyplot.title('Mean Squared Error between Train and Test Sets')\n",
        "pyplot.show()"
      ],
      "metadata": {
        "colab": {
          "base_uri": "https://localhost:8080/",
          "height": 282
        },
        "id": "WefZEAkFcnDH",
        "outputId": "a0725cc4-9325-4d4d-e690-6c6d15a64e23"
      },
      "id": "WefZEAkFcnDH",
      "execution_count": 92,
      "outputs": [
        {
          "output_type": "display_data",
          "data": {
            "text/plain": [
              "<Figure size 432x288 with 1 Axes>"
            ],
            "image/png": "[encoded data removed]"
          },
          "metadata": {}
        }
      ]
    },
    {
      "cell_type": "code",
      "source": [
        "def predict_class(reviews):\n",
        "  '''predict class of input text\n",
        "  Args:\n",
        "    - reviews (list of strings)\n",
        "  Output:\n",
        "    - class (list of int)\n",
        "  '''\n",
        "  return [np.argmax(pred) for pred in model.predict(reviews)]\n"
      ],
      "metadata": {
        "id": "w_23GcA7Se8a"
      },
      "id": "w_23GcA7Se8a",
      "execution_count": 93,
      "outputs": []
    },
    {
      "cell_type": "code",
      "source": [
        "from sklearn.metrics import classification_report\n",
        "from sklearn.metrics import accuracy_score, f1_score, confusion_matrix, classification_report\n",
        "\n",
        "y_pred = predict_class(df_dev[\"sentence\"])"
      ],
      "metadata": {
        "id": "ZMs5hHZJSfBO"
      },
      "id": "ZMs5hHZJSfBO",
      "execution_count": 94,
      "outputs": []
    },
    {
      "cell_type": "code",
      "source": [
        "class_names = df_dev['Labels'].unique().tolist()\n",
        "\n",
        "print(\"Accuracy: {:.2f}%\".format(accuracy_score(df_dev['Labels'], y_pred) * 100))\n",
        "print(\"\\nF1 Score: {:.2f}\".format(f1_score(df_dev['Labels'], y_pred, average='micro') * 100))\n",
        "\n",
        "# Plot normalized confusion matrix\n",
        "plot_confusion_matrix(df_dev['Labels'], y_pred, classes=class_names, normalize=True, title='Normalized confusion matrix')\n",
        "plt.show()"
      ],
      "metadata": {
        "colab": {
          "base_uri": "https://localhost:8080/",
          "height": 604
        },
        "id": "dxkHafFGaqID",
        "outputId": "b27e25e6-f96a-44c1-909b-767de0bbff9d"
      },
      "id": "dxkHafFGaqID",
      "execution_count": 97,
      "outputs": [
        {
          "output_type": "stream",
          "name": "stdout",
          "text": [
            "Accuracy: 48.50%\n",
            "\n",
            "F1 Score: 48.50\n"
          ]
        },
        {
          "output_type": "display_data",
          "data": {
            "text/plain": [
              "<Figure size 900x540 with 2 Axes>"
            ],
            "image/png": "[encoded data removed]"
          },
          "metadata": {}
        }
      ]
    },
    {
      "cell_type": "code",
      "source": [
        "from sklearn.metrics import classification_report\n",
        "\n",
        "print(classification_report(df_dev[\"Labels\"], y_pred))"
      ],
      "metadata": {
        "colab": {
          "base_uri": "https://localhost:8080/"
        },
        "id": "TvnyOSEMSfD5",
        "outputId": "2d0bdd65-6f23-4fc5-a649-57d9ca317089"
      },
      "id": "TvnyOSEMSfD5",
      "execution_count": 98,
      "outputs": [
        {
          "output_type": "stream",
          "name": "stdout",
          "text": [
            "              precision    recall  f1-score   support\n",
            "\n",
            "           0       0.39      0.73      0.51       211\n",
            "           1       0.55      0.42      0.47       170\n",
            "           2       0.52      0.47      0.49        77\n",
            "           3       0.57      0.38      0.46       104\n",
            "           4       0.61      0.46      0.53        97\n",
            "           5       0.58      0.34      0.43        87\n",
            "           6       0.54      0.32      0.41        96\n",
            "           7       0.52      0.49      0.50       158\n",
            "\n",
            "    accuracy                           0.48      1000\n",
            "   macro avg       0.53      0.45      0.48      1000\n",
            "weighted avg       0.52      0.48      0.48      1000\n",
            "\n"
          ]
        }
      ]
    },
    {
      "cell_type": "code",
      "source": [
        ""
      ],
      "metadata": {
        "id": "q8mbdZ8VSfHD"
      },
      "id": "q8mbdZ8VSfHD",
      "execution_count": null,
      "outputs": []
    },
    {
      "cell_type": "code",
      "source": [
        ""
      ],
      "metadata": {
        "id": "n_qw04R3SfKp"
      },
      "id": "n_qw04R3SfKp",
      "execution_count": null,
      "outputs": []
    },
    {
      "cell_type": "code",
      "source": [
        ""
      ],
      "metadata": {
        "id": "eAWFr0VtSfOk"
      },
      "id": "eAWFr0VtSfOk",
      "execution_count": null,
      "outputs": []
    },
    {
      "cell_type": "code",
      "source": [
        ""
      ],
      "metadata": {
        "id": "hZSa24XbSfQH"
      },
      "id": "hZSa24XbSfQH",
      "execution_count": null,
      "outputs": []
    },
    {
      "cell_type": "code",
      "source": [
        ""
      ],
      "metadata": {
        "id": "dTHHAVa0SfRq"
      },
      "id": "dTHHAVa0SfRq",
      "execution_count": null,
      "outputs": []
    },
    {
      "cell_type": "code",
      "source": [
        ""
      ],
      "metadata": {
        "id": "kZ3IaBuwSfUq"
      },
      "id": "kZ3IaBuwSfUq",
      "execution_count": null,
      "outputs": []
    },
    {
      "cell_type": "code",
      "source": [
        ""
      ],
      "metadata": {
        "id": "-Tj3PjvhSfXi"
      },
      "id": "-Tj3PjvhSfXi",
      "execution_count": null,
      "outputs": []
    },
    {
      "cell_type": "code",
      "source": [
        ""
      ],
      "metadata": {
        "id": "z2-WgblYSfal"
      },
      "id": "z2-WgblYSfal",
      "execution_count": null,
      "outputs": []
    },
    {
      "cell_type": "code",
      "source": [
        ""
      ],
      "metadata": {
        "id": "n5mhJ2VjSfdZ"
      },
      "id": "n5mhJ2VjSfdZ",
      "execution_count": null,
      "outputs": []
    },
    {
      "cell_type": "code",
      "source": [
        ""
      ],
      "metadata": {
        "id": "OrUng_ibSffy"
      },
      "id": "OrUng_ibSffy",
      "execution_count": null,
      "outputs": []
    },
    {
      "cell_type": "code",
      "source": [
        ""
      ],
      "metadata": {
        "id": "Q7u5nayQSfif"
      },
      "id": "Q7u5nayQSfif",
      "execution_count": null,
      "outputs": []
    },
    {
      "cell_type": "code",
      "source": [
        ""
      ],
      "metadata": {
        "id": "4GgTgQcrc18g"
      },
      "id": "4GgTgQcrc18g",
      "execution_count": null,
      "outputs": []
    },
    {
      "cell_type": "code",
      "source": [
        ""
      ],
      "metadata": {
        "id": "sQsypYNac1_e"
      },
      "id": "sQsypYNac1_e",
      "execution_count": null,
      "outputs": []
    },
    {
      "cell_type": "code",
      "source": [
        ""
      ],
      "metadata": {
        "id": "3QrLq8h-c2DW"
      },
      "id": "3QrLq8h-c2DW",
      "execution_count": null,
      "outputs": []
    },
    {
      "cell_type": "code",
      "source": [
        ""
      ],
      "metadata": {
        "id": "sWrxeXp7c2Fb"
      },
      "id": "sWrxeXp7c2Fb",
      "execution_count": null,
      "outputs": []
    },
    {
      "cell_type": "code",
      "source": [
        ""
      ],
      "metadata": {
        "id": "NdVqhXNBc2HR"
      },
      "id": "NdVqhXNBc2HR",
      "execution_count": null,
      "outputs": []
    },
    {
      "cell_type": "code",
      "source": [
        ""
      ],
      "metadata": {
        "id": "I2QMW2k4c2KW"
      },
      "id": "I2QMW2k4c2KW",
      "execution_count": null,
      "outputs": []
    },
    {
      "cell_type": "code",
      "source": [
        ""
      ],
      "metadata": {
        "id": "JJ__MXYJc2Na"
      },
      "id": "JJ__MXYJc2Na",
      "execution_count": null,
      "outputs": []
    },
    {
      "cell_type": "code",
      "source": [
        ""
      ],
      "metadata": {
        "id": "KbMS4IMGc2QQ"
      },
      "id": "KbMS4IMGc2QQ",
      "execution_count": null,
      "outputs": []
    },
    {
      "cell_type": "code",
      "source": [
        ""
      ],
      "metadata": {
        "id": "5sgt61dZc2Ss"
      },
      "id": "5sgt61dZc2Ss",
      "execution_count": null,
      "outputs": []
    },
    {
      "cell_type": "code",
      "source": [
        ""
      ],
      "metadata": {
        "id": "0AedOEQpc2VN"
      },
      "id": "0AedOEQpc2VN",
      "execution_count": null,
      "outputs": []
    },
    {
      "cell_type": "code",
      "source": [
        ""
      ],
      "metadata": {
        "id": "wOu5CQ8dc2Xb"
      },
      "id": "wOu5CQ8dc2Xb",
      "execution_count": null,
      "outputs": []
    },
    {
      "cell_type": "code",
      "source": [
        ""
      ],
      "metadata": {
        "id": "ENBAJjnkc2aO"
      },
      "id": "ENBAJjnkc2aO",
      "execution_count": null,
      "outputs": []
    },
    {
      "cell_type": "code",
      "source": [
        ""
      ],
      "metadata": {
        "id": "DlmjRooG9Aca"
      },
      "id": "DlmjRooG9Aca",
      "execution_count": null,
      "outputs": []
    },
    {
      "cell_type": "code",
      "source": [
        ""
      ],
      "metadata": {
        "id": "ZuSHJAOv9AZO"
      },
      "id": "ZuSHJAOv9AZO",
      "execution_count": null,
      "outputs": []
    },
    {
      "cell_type": "code",
      "source": [
        ""
      ],
      "metadata": {
        "id": "c7xil-uV9ATe"
      },
      "id": "c7xil-uV9ATe",
      "execution_count": null,
      "outputs": []
    },
    {
      "cell_type": "code",
      "source": [
        ""
      ],
      "metadata": {
        "id": "LlHBp1Qi9ACZ"
      },
      "id": "LlHBp1Qi9ACZ",
      "execution_count": null,
      "outputs": []
    }
  ],
  "metadata": {
    "accelerator": "GPU",
    "colab": {
      "collapsed_sections": [],
      "name": "Bert - with Tensorlfow.ipynb",
      "provenance": [],
      "include_colab_link": true
    },
    "kernelspec": {
      "display_name": "Python 3.8 (t-tensorflow)",
      "language": "python",
      "name": "text_m"
    },
    "language_info": {
      "codemirror_mode": {
        "name": "ipython",
        "version": 3
      },
      "file_extension": ".py",
      "mimetype": "text/x-python",
      "name": "python",
      "nbconvert_exporter": "python",
      "pygments_lexer": "ipython3",
      "version": "3.8.13"
    },
    "widgets": {
      "application/vnd.jupyter.widget-state+json": {
        "16e32aa6241e4d62a6b4a7088aba7e59": {
          "model_module": "@jupyter-widgets/controls",
          "model_name": "HBoxModel",
          "model_module_version": "1.5.0",
          "state": {
            "_dom_classes": [],
            "_model_module": "@jupyter-widgets/controls",
            "_model_module_version": "1.5.0",
            "_model_name": "HBoxModel",
            "_view_count": null,
            "_view_module": "@jupyter-widgets/controls",
            "_view_module_version": "1.5.0",
            "_view_name": "HBoxView",
            "box_style": "",
            "children": [
              "IPY_MODEL_6ebd816146ef426887715068ae956af9",
              "IPY_MODEL_7d6b32930d5a44edbd5ccaa68f1f61ef",
              "IPY_MODEL_d131bfca4c304f53b45b7ed5680bda0f"
            ],
            "layout": "IPY_MODEL_7f3b3c6469944d81950caa71b682f659"
          }
        },
        "6ebd816146ef426887715068ae956af9": {
          "model_module": "@jupyter-widgets/controls",
          "model_name": "HTMLModel",
          "model_module_version": "1.5.0",
          "state": {
            "_dom_classes": [],
            "_model_module": "@jupyter-widgets/controls",
            "_model_module_version": "1.5.0",
            "_model_name": "HTMLModel",
            "_view_count": null,
            "_view_module": "@jupyter-widgets/controls",
            "_view_module_version": "1.5.0",
            "_view_name": "HTMLView",
            "description": "",
            "description_tooltip": null,
            "layout": "IPY_MODEL_8ed8602ccad3422da20aecf89149dfd4",
            "placeholder": "​",
            "style": "IPY_MODEL_285a6091f2374edd87e88de1ef218f76",
            "value": "100%"
          }
        },
        "7d6b32930d5a44edbd5ccaa68f1f61ef": {
          "model_module": "@jupyter-widgets/controls",
          "model_name": "FloatProgressModel",
          "model_module_version": "1.5.0",
          "state": {
            "_dom_classes": [],
            "_model_module": "@jupyter-widgets/controls",
            "_model_module_version": "1.5.0",
            "_model_name": "FloatProgressModel",
            "_view_count": null,
            "_view_module": "@jupyter-widgets/controls",
            "_view_module_version": "1.5.0",
            "_view_name": "ProgressView",
            "bar_style": "success",
            "description": "",
            "description_tooltip": null,
            "layout": "IPY_MODEL_17320ddc35fa4c0885aa4367cea21080",
            "max": 1000,
            "min": 0,
            "orientation": "horizontal",
            "style": "IPY_MODEL_b3303f905edb4105b58c2fe2671b6896",
            "value": 1000
          }
        },
        "d131bfca4c304f53b45b7ed5680bda0f": {
          "model_module": "@jupyter-widgets/controls",
          "model_name": "HTMLModel",
          "model_module_version": "1.5.0",
          "state": {
            "_dom_classes": [],
            "_model_module": "@jupyter-widgets/controls",
            "_model_module_version": "1.5.0",
            "_model_name": "HTMLModel",
            "_view_count": null,
            "_view_module": "@jupyter-widgets/controls",
            "_view_module_version": "1.5.0",
            "_view_name": "HTMLView",
            "description": "",
            "description_tooltip": null,
            "layout": "IPY_MODEL_46ad51114d29479da65a2e9e63b34c59",
            "placeholder": "​",
            "style": "IPY_MODEL_10178ece28c84f95ab7954910035184d",
            "value": " 1000/1000 [00:00&lt;00:00, 3274.39it/s]"
          }
        },
        "7f3b3c6469944d81950caa71b682f659": {
          "model_module": "@jupyter-widgets/base",
          "model_name": "LayoutModel",
          "model_module_version": "1.2.0",
          "state": {
            "_model_module": "@jupyter-widgets/base",
            "_model_module_version": "1.2.0",
            "_model_name": "LayoutModel",
            "_view_count": null,
            "_view_module": "@jupyter-widgets/base",
            "_view_module_version": "1.2.0",
            "_view_name": "LayoutView",
            "align_content": null,
            "align_items": null,
            "align_self": null,
            "border": null,
            "bottom": null,
            "display": null,
            "flex": null,
            "flex_flow": null,
            "grid_area": null,
            "grid_auto_columns": null,
            "grid_auto_flow": null,
            "grid_auto_rows": null,
            "grid_column": null,
            "grid_gap": null,
            "grid_row": null,
            "grid_template_areas": null,
            "grid_template_columns": null,
            "grid_template_rows": null,
            "height": null,
            "justify_content": null,
            "justify_items": null,
            "left": null,
            "margin": null,
            "max_height": null,
            "max_width": null,
            "min_height": null,
            "min_width": null,
            "object_fit": null,
            "object_position": null,
            "order": null,
            "overflow": null,
            "overflow_x": null,
            "overflow_y": null,
            "padding": null,
            "right": null,
            "top": null,
            "visibility": null,
            "width": null
          }
        },
        "8ed8602ccad3422da20aecf89149dfd4": {
          "model_module": "@jupyter-widgets/base",
          "model_name": "LayoutModel",
          "model_module_version": "1.2.0",
          "state": {
            "_model_module": "@jupyter-widgets/base",
            "_model_module_version": "1.2.0",
            "_model_name": "LayoutModel",
            "_view_count": null,
            "_view_module": "@jupyter-widgets/base",
            "_view_module_version": "1.2.0",
            "_view_name": "LayoutView",
            "align_content": null,
            "align_items": null,
            "align_self": null,
            "border": null,
            "bottom": null,
            "display": null,
            "flex": null,
            "flex_flow": null,
            "grid_area": null,
            "grid_auto_columns": null,
            "grid_auto_flow": null,
            "grid_auto_rows": null,
            "grid_column": null,
            "grid_gap": null,
            "grid_row": null,
            "grid_template_areas": null,
            "grid_template_columns": null,
            "grid_template_rows": null,
            "height": null,
            "justify_content": null,
            "justify_items": null,
            "left": null,
            "margin": null,
            "max_height": null,
            "max_width": null,
            "min_height": null,
            "min_width": null,
            "object_fit": null,
            "object_position": null,
            "order": null,
            "overflow": null,
            "overflow_x": null,
            "overflow_y": null,
            "padding": null,
            "right": null,
            "top": null,
            "visibility": null,
            "width": null
          }
        },
        "285a6091f2374edd87e88de1ef218f76": {
          "model_module": "@jupyter-widgets/controls",
          "model_name": "DescriptionStyleModel",
          "model_module_version": "1.5.0",
          "state": {
            "_model_module": "@jupyter-widgets/controls",
            "_model_module_version": "1.5.0",
            "_model_name": "DescriptionStyleModel",
            "_view_count": null,
            "_view_module": "@jupyter-widgets/base",
            "_view_module_version": "1.2.0",
            "_view_name": "StyleView",
            "description_width": ""
          }
        },
        "17320ddc35fa4c0885aa4367cea21080": {
          "model_module": "@jupyter-widgets/base",
          "model_name": "LayoutModel",
          "model_module_version": "1.2.0",
          "state": {
            "_model_module": "@jupyter-widgets/base",
            "_model_module_version": "1.2.0",
            "_model_name": "LayoutModel",
            "_view_count": null,
            "_view_module": "@jupyter-widgets/base",
            "_view_module_version": "1.2.0",
            "_view_name": "LayoutView",
            "align_content": null,
            "align_items": null,
            "align_self": null,
            "border": null,
            "bottom": null,
            "display": null,
            "flex": null,
            "flex_flow": null,
            "grid_area": null,
            "grid_auto_columns": null,
            "grid_auto_flow": null,
            "grid_auto_rows": null,
            "grid_column": null,
            "grid_gap": null,
            "grid_row": null,
            "grid_template_areas": null,
            "grid_template_columns": null,
            "grid_template_rows": null,
            "height": null,
            "justify_content": null,
            "justify_items": null,
            "left": null,
            "margin": null,
            "max_height": null,
            "max_width": null,
            "min_height": null,
            "min_width": null,
            "object_fit": null,
            "object_position": null,
            "order": null,
            "overflow": null,
            "overflow_x": null,
            "overflow_y": null,
            "padding": null,
            "right": null,
            "top": null,
            "visibility": null,
            "width": null
          }
        },
        "b3303f905edb4105b58c2fe2671b6896": {
          "model_module": "@jupyter-widgets/controls",
          "model_name": "ProgressStyleModel",
          "model_module_version": "1.5.0",
          "state": {
            "_model_module": "@jupyter-widgets/controls",
            "_model_module_version": "1.5.0",
            "_model_name": "ProgressStyleModel",
            "_view_count": null,
            "_view_module": "@jupyter-widgets/base",
            "_view_module_version": "1.2.0",
            "_view_name": "StyleView",
            "bar_color": null,
            "description_width": ""
          }
        },
        "46ad51114d29479da65a2e9e63b34c59": {
          "model_module": "@jupyter-widgets/base",
          "model_name": "LayoutModel",
          "model_module_version": "1.2.0",
          "state": {
            "_model_module": "@jupyter-widgets/base",
            "_model_module_version": "1.2.0",
            "_model_name": "LayoutModel",
            "_view_count": null,
            "_view_module": "@jupyter-widgets/base",
            "_view_module_version": "1.2.0",
            "_view_name": "LayoutView",
            "align_content": null,
            "align_items": null,
            "align_self": null,
            "border": null,
            "bottom": null,
            "display": null,
            "flex": null,
            "flex_flow": null,
            "grid_area": null,
            "grid_auto_columns": null,
            "grid_auto_flow": null,
            "grid_auto_rows": null,
            "grid_column": null,
            "grid_gap": null,
            "grid_row": null,
            "grid_template_areas": null,
            "grid_template_columns": null,
            "grid_template_rows": null,
            "height": null,
            "justify_content": null,
            "justify_items": null,
            "left": null,
            "margin": null,
            "max_height": null,
            "max_width": null,
            "min_height": null,
            "min_width": null,
            "object_fit": null,
            "object_position": null,
            "order": null,
            "overflow": null,
            "overflow_x": null,
            "overflow_y": null,
            "padding": null,
            "right": null,
            "top": null,
            "visibility": null,
            "width": null
          }
        },
        "10178ece28c84f95ab7954910035184d": {
          "model_module": "@jupyter-widgets/controls",
          "model_name": "DescriptionStyleModel",
          "model_module_version": "1.5.0",
          "state": {
            "_model_module": "@jupyter-widgets/controls",
            "_model_module_version": "1.5.0",
            "_model_name": "DescriptionStyleModel",
            "_view_count": null,
            "_view_module": "@jupyter-widgets/base",
            "_view_module_version": "1.2.0",
            "_view_name": "StyleView",
            "description_width": ""
          }
        }
      }
    }
  },
  "nbformat": 4,
  "nbformat_minor": 5
}